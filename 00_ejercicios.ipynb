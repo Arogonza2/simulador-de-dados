{
 "cells": [
  {
   "cell_type": "code",
   "execution_count": 26,
   "metadata": {},
   "outputs": [
    {
     "name": "stdout",
     "output_type": "stream",
     "text": [
      "35\n",
      "10\n"
     ]
    }
   ],
   "source": [
    "# Encontrar el maximo de una lista de numero\n",
    "\n",
    "lista = 1, 11, 3, 5, 6, 8, 12, 35\n",
    "resuiltado = max(lista)\n",
    "print(resuiltado)\n",
    "\n",
    "\n",
    "# Calcula la media de una lista de numeros\n",
    "\n",
    "resultado = sum(lista) // len(lista)\n",
    "print(resultado)\n",
    "\n",
    "#Validar contraseña\n",
    "      \n",
    "\n"
   ]
  },
  {
   "cell_type": "code",
   "execution_count": 18,
   "metadata": {},
   "outputs": [
    {
     "name": "stdout",
     "output_type": "stream",
     "text": [
      "Eres menor de Edad\n"
     ]
    }
   ],
   "source": [
    "#mayor o menor de edad\n",
    "\n",
    "edad_persona = int(input(\"Dime tu edad\"))\n",
    "\n",
    "if edad_persona >=18:\n",
    "    print(\"Eres mayor de edad\")\n",
    "elif edad_persona <=18:\n",
    "    print(\"Eres menor de Edad\")\n",
    "else:\n",
    "    print(\"La edad introducida no es correcta\")\n",
    "     "
   ]
  },
  {
   "cell_type": "code",
   "execution_count": 19,
   "metadata": {},
   "outputs": [
    {
     "name": "stdout",
     "output_type": "stream",
     "text": [
      "1\n",
      "4\n",
      "9\n",
      "16\n",
      "25\n",
      "36\n",
      "49\n",
      "64\n",
      "81\n",
      "100\n"
     ]
    }
   ],
   "source": [
    "#Ejercicio 1\n",
    "#Haz un bucle para mostrar los cuadrados de los numeros entre 1 y 10\n",
    "\n",
    "for i in range(1, 11):\n",
    "    print(i**2)  # El operador ** eleva a un numero, en este caos a 2"
   ]
  },
  {
   "cell_type": "code",
   "execution_count": 8,
   "metadata": {},
   "outputs": [
    {
     "name": "stdout",
     "output_type": "stream",
     "text": [
      "['Hola', 'esto', 'es', 'una', 'frase']\n"
     ]
    }
   ],
   "source": [
    "#Ejercicio 2\n",
    "#Haz una función para separar una frase en una lista de palabras\n",
    "\n",
    "def separar(frase):\n",
    "    return frase.split()  #Por defecto split separa por espacio en blanco\n",
    "\n",
    "print(separar(\"Hola esto es una frase\"))"
   ]
  },
  {
   "cell_type": "code",
   "execution_count": null,
   "metadata": {},
   "outputs": [],
   "source": []
  },
  {
   "cell_type": "code",
   "execution_count": 20,
   "metadata": {},
   "outputs": [
    {
     "name": "stdout",
     "output_type": "stream",
     "text": [
      "Eres un niño\n"
     ]
    }
   ],
   "source": [
    "edad = int(input(\"Dime tu edad: \"))\n",
    "respuesta = \"Eres mayor de edad\" if edad >= 18 else \"Eres un niño\"\n",
    "print(respuesta)\n",
    "\n"
   ]
  },
  {
   "cell_type": "code",
   "execution_count": 13,
   "metadata": {},
   "outputs": [
    {
     "name": "stdout",
     "output_type": "stream",
     "text": [
      "var\n"
     ]
    }
   ],
   "source": [
    "var = [\"john\", \"DOE\", \"sTaRlEtTe\", \"TesT\"]\n",
    "\n",
    "print (\"var\")\n"
   ]
  },
  {
   "cell_type": "code",
   "execution_count": 14,
   "metadata": {},
   "outputs": [
    {
     "name": "stdout",
     "output_type": "stream",
     "text": [
      "1\n",
      "2\n",
      "3\n",
      "4\n",
      "5\n",
      "6\n",
      "7\n",
      "8\n",
      "9\n",
      "10\n"
     ]
    }
   ],
   "source": [
    "numeros = [1, 2, 3, 4, 5, 6, 7, 8, 9, 10]\n",
    "\n",
    "for numero in numeros:\n",
    "  print(numero)"
   ]
  },
  {
   "cell_type": "code",
   "execution_count": 25,
   "metadata": {},
   "outputs": [
    {
     "name": "stdout",
     "output_type": "stream",
     "text": [
      "[3, 4, 5, 1, 2, 3, 4]\n",
      "(1, 2, 3, 4, 1, 2, 3, 4)\n"
     ]
    }
   ],
   "source": [
    "lista = list((1, 2, 3, 4, 5,))\n",
    "lista = list(range(1,11))\n",
    "tupla = tuple((1, 2, 3, 4, 5,))\n",
    "lista = list(lista[2:5])\n",
    "tupla = tuple(tupla[:4])\n",
    "\n",
    "lista_de_tupla = list(tupla)  #cambio el tipo de lista a tupla \n",
    "\n",
    "print(lista + lista_de_tupla)\n",
    "print(tupla *2 )"
   ]
  },
  {
   "cell_type": "code",
   "execution_count": 50,
   "metadata": {},
   "outputs": [
    {
     "ename": "AttributeError",
     "evalue": "'tuple' object has no attribute 'append'",
     "output_type": "error",
     "traceback": [
      "\u001b[1;31m---------------------------------------------------------------------------\u001b[0m",
      "\u001b[1;31mAttributeError\u001b[0m                            Traceback (most recent call last)",
      "Cell \u001b[1;32mIn[50], line 1\u001b[0m\n\u001b[1;32m----> 1\u001b[0m \u001b[38;5;28mprint\u001b[39m(\u001b[43mlista\u001b[49m\u001b[38;5;241;43m.\u001b[39;49m\u001b[43mappend\u001b[49m())\n",
      "\u001b[1;31mAttributeError\u001b[0m: 'tuple' object has no attribute 'append'"
     ]
    }
   ],
   "source": [
    "print(lista.copy())\n"
   ]
  },
  {
   "cell_type": "code",
   "execution_count": 51,
   "metadata": {},
   "outputs": [
    {
     "name": "stdout",
     "output_type": "stream",
     "text": [
      "[13, 17, 19, 23, 29, 31]\n"
     ]
    }
   ],
   "source": [
    "#guarda numeros primos en una lista\n",
    "\n",
    "primos = []\n",
    "inicio = int(input(\"Dame un numero de inicio: \"))\n",
    "final = int(input(\"Dame un numero final: \"))\n",
    "for numero in range(inicio, final + 1):\n",
    "    if numero > 1:\n",
    "        es_primo = True\n",
    "        for raiz in range(2, numero):\n",
    "            if numero % raiz == 0:\n",
    "                es_primo = False\n",
    "                break\n",
    "        if es_primo:\n",
    "            primos.append(numero)\n",
    "print(primos)"
   ]
  },
  {
   "cell_type": "code",
   "execution_count": 59,
   "metadata": {},
   "outputs": [
    {
     "name": "stdout",
     "output_type": "stream",
     "text": [
      "Primera y ultima letras son la misma\n"
     ]
    }
   ],
   "source": [
    "#comprueva si l apriemra y la ultima letra son iguales \n",
    "\n",
    "string = input(\"Dame un string: \").lower()\n",
    "if string[0] == string[-1]:\n",
    "    print(\"Primera y ultima letras son la misma\")\n",
    "else:\n",
    "    print(\"No tiene las mismas letras al principio y al final\")"
   ]
  },
  {
   "cell_type": "markdown",
   "metadata": {},
   "source": [
    "# Comprobar si un numero entero es palindromo y devolver la suma de sus digitos"
   ]
  },
  {
   "cell_type": "code",
   "execution_count": 57,
   "metadata": {},
   "outputs": [
    {
     "name": "stdout",
     "output_type": "stream",
     "text": [
      "54654665 Es palindromo\n",
      "Y la suma de sus digitos es:41\n"
     ]
    }
   ],
   "source": [
    "# Comprobar si un numero entero es palindromo y devolver la suma de sus digitos\n",
    "\n",
    "numero = input(\"Dame un numnero:\") \n",
    "if numero[0] == numero[-1]:\n",
    "    print(f\"{numero} Es palindromo\")\n",
    "    suma_digitos = 0\n",
    "    for digito in numero:\n",
    "        suma_digitos += int(digito)\n",
    "    print(f\"Y la suma de sus digitos es:{suma_digitos}\")\n",
    "else:\n",
    "    print(f\"{numero} no es palindromo\")\n"
   ]
  }
 ],
 "metadata": {
  "kernelspec": {
   "display_name": "Python 3",
   "language": "python",
   "name": "python3"
  },
  "language_info": {
   "codemirror_mode": {
    "name": "ipython",
    "version": 3
   },
   "file_extension": ".py",
   "mimetype": "text/x-python",
   "name": "python",
   "nbconvert_exporter": "python",
   "pygments_lexer": "ipython3",
   "version": "3.12.1"
  }
 },
 "nbformat": 4,
 "nbformat_minor": 2
}
