{
 "cells": [
  {
   "cell_type": "code",
   "execution_count": 8,
   "metadata": {},
   "outputs": [
    {
     "name": "stdout",
     "output_type": "stream",
     "text": [
      "35\n",
      "10\n"
     ]
    }
   ],
   "source": [
    "# Encontrar el maximo de una lista de numero\n",
    "\n",
    "lista = 1, 11, 3, 5, 6, 8, 12, 35\n",
    "resuiltado = max(lista)\n",
    "print(resuiltado)\n",
    "\n",
    "\n",
    "# Calcula la media de una lista de numeros\n",
    "\n",
    "resultado = sum(lista) // len(lista)\n",
    "print(resultado)\n",
    "\n",
    "#\n",
    "\n"
   ]
  }
 ],
 "metadata": {
  "kernelspec": {
   "display_name": "Python 3",
   "language": "python",
   "name": "python3"
  },
  "language_info": {
   "codemirror_mode": {
    "name": "ipython",
    "version": 3
   },
   "file_extension": ".py",
   "mimetype": "text/x-python",
   "name": "python",
   "nbconvert_exporter": "python",
   "pygments_lexer": "ipython3",
   "version": "3.12.1"
  }
 },
 "nbformat": 4,
 "nbformat_minor": 2
}
