{
 "cells": [
  {
   "cell_type": "code",
   "execution_count": null,
   "metadata": {},
   "outputs": [],
   "source": [
    "from django.db import models\n",
    "\n",
    "class profesores(models.Model):\n",
    "    nombre = models.CharField(max_length=100)\n",
    "         \n",
    "class asignaturas(models.Model):\n",
    "    nombre = models.CharField(max_length=100)\n",
    "    profesor = models.OneToOneField(Profesor, on_delete=models.CASCADE)\n",
    "\n",
    "class alumnos(models.Model):\n",
    "    nombre = models.CharField(max_length=100)\n",
    "    asignaturas = models.ManyToManyField(asignaturas)\n",
    "    \n",
    "       "
   ]
  },
  {
   "cell_type": "code",
   "execution_count": null,
   "metadata": {},
   "outputs": [],
   "source": [
    "def codificador (enconding, url):\n",
    "    url_codificada = enconding(url)\n",
    "    return url_codificada\n",
    "encoding = lambda n: n.replace(\" \", \"+\").replace(\"-\", \"%\")\n",
    "url= \"www.google.com/api/v2/new-forms-8\"\n",
    "var = codificador(lambda s:s.lower()[:-2],url)\n",
    "print(var)\n"
   ]
  },
  {
   "cell_type": "code",
   "execution_count": 5,
   "metadata": {},
   "outputs": [
    {
     "ename": "SyntaxError",
     "evalue": "expected ':' (1974648825.py, line 3)",
     "output_type": "error",
     "traceback": [
      "\u001b[1;36m  Cell \u001b[1;32mIn[5], line 3\u001b[1;36m\u001b[0m\n\u001b[1;33m    def _int_(self,nombre)\u001b[0m\n\u001b[1;37m                          ^\u001b[0m\n\u001b[1;31mSyntaxError\u001b[0m\u001b[1;31m:\u001b[0m expected ':'\n"
     ]
    }
   ],
   "source": [
    "class Perro:\n",
    "    raza = \"beagle\"\n",
    "    def _int_(self,nombre)\n",
    "        self.nombre = nombre\n",
    "    \n",
    "    def ladra(self):\n",
    "        print(\"guau\")"
   ]
  },
  {
   "cell_type": "code",
   "execution_count": 6,
   "metadata": {},
   "outputs": [],
   "source": [
    "class Vehiculo:\n",
    "    numero_ruedas = 4\n",
    "    def __init__(self, nombre):\n",
    "        self.nombre = nombre\n",
    "        self.arrancado = False\n",
    "       \n",
    "    def arrancar_o_aparcar(self):\n",
    "        if self.arrancado:\n",
    "            self.arrancado = False\n",
    "        else:\n",
    "            self.arrancado = True\n",
    "           \n",
    "class Coche(Vehiculo):\n",
    "    def __init__(self, nombre, marca):\n",
    "        super().__init__(nombre)\n",
    "        self.marca = marca\n",
    "       \n",
    "    def moverse_a_120_kmh(self):\n",
    "        return \"Moviendose a 120 km/h\" if self.arrancado else \"Necesitas arrancar primero\""
   ]
  },
  {
   "cell_type": "code",
   "execution_count": null,
   "metadata": {},
   "outputs": [],
   "source": [
    "def suma(a,b):\n",
    "    return a+b "
   ]
  }
 ],
 "metadata": {
  "kernelspec": {
   "display_name": "Python 3",
   "language": "python",
   "name": "python3"
  },
  "language_info": {
   "codemirror_mode": {
    "name": "ipython",
    "version": 3
   },
   "file_extension": ".py",
   "mimetype": "text/x-python",
   "name": "python",
   "nbconvert_exporter": "python",
   "pygments_lexer": "ipython3",
   "version": "3.12.1"
  }
 },
 "nbformat": 4,
 "nbformat_minor": 2
}
