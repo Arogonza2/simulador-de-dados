{
 "cells": [
  {
   "cell_type": "code",
   "execution_count": null,
   "metadata": {},
   "outputs": [],
   "source": [
    "lista = list(range(1,10))\n",
    "print(lista)\n",
    "\n",
    "lista.pop(4)\n",
    "print(lista)\n"
   ]
  },
  {
   "cell_type": "code",
   "execution_count": null,
   "metadata": {},
   "outputs": [],
   "source": [
    "#Guardar una clave o valor en una lista\n",
    "\n",
    "numero = 13\n",
    "\n",
    "lista_primos = []\n",
    "\n",
    "for raiz in range(2, numero):\n",
    "    if numero % raiz == 0:\n",
    "        lista_primos.append(raiz)\n",
    "\n",
    "print(f\"Esta es la lista guardad en lista_primos: {lista_primos} \")\n",
    "\n",
    "\n",
    "\n",
    "\n",
    "         "
   ]
  },
  {
   "cell_type": "markdown",
   "metadata": {},
   "source": [
    "por que no salen ningun numero primo si la el numeor es 19 "
   ]
  },
  {
   "cell_type": "code",
   "execution_count": null,
   "metadata": {},
   "outputs": [],
   "source": [
    "# Comprobar si un numero entero es palindromo y devolver la suma de sus digitos\n",
    "\n",
    "numero = input(\"Dame un numnero:\") \n",
    "if numero[0] == numero[-1]:\n",
    "    print(f\"{numero} Es palindromo\")\n",
    "    suma_digitos = 0\n",
    "    for digito in numero:\n",
    "        suma_digitos += int(digito)\n",
    "    print(f\"Y la suma de sus digitos es:{suma_digitos}\")\n",
    "else:\n",
    "    print(f\"{numero} no es palindromo\")"
   ]
  },
  {
   "cell_type": "code",
   "execution_count": null,
   "metadata": {},
   "outputs": [],
   "source": [
    "#Crea una base de datos de alumnos edad y notas\n",
    "\n",
    "alumnos = {\n",
    "    1: {\n",
    "        \"nombre\" : \"Juan\",\n",
    "        \"edad\" : 23,\n",
    "        \"notas\" : [4,6,8,5]        \n",
    "    },\n",
    "    \n",
    "    2: {\n",
    "        \"nombre\" : \"Ana\",\n",
    "        \"edad\" : 23,\n",
    "        \"notas\" : [5,6,6,7]\n",
    "        \n",
    "    },\n",
    "    3: {\n",
    "        \"nombre\" : \"Joaquin\",\n",
    "        \"edad\" : 27,\n",
    "        \"notas\" : [6,7,5,5]\n",
    "    }\n",
    "    \n",
    "}\n",
    "\n",
    "print (alumnos)"
   ]
  },
  {
   "cell_type": "code",
   "execution_count": null,
   "metadata": {},
   "outputs": [],
   "source": [
    "#validar un numero de telefono\n",
    "\n",
    "telefono  = input(\"intoduce un numero de telefono: \")\n",
    "telf_limpio = telefono.replace(\" \", \"\")          #quita los espacios del numero\n",
    "\n",
    "if telf_limpio[0] != \"+\":\n",
    "    print(f\"El numero {telefono} no es un telefono \")  # verifica que  el  numero no tiene un + en primera posicion no es valido  \n",
    "elif len(telf_limpio) != 12:\n",
    "    print(f\"El numero {telefono} no es un telefono  \")             #verifica que la longitud del numero \n",
    "elif not telf_limpio[1:].isnumeric():\n",
    "    print(f\"El numero {telefono} no es un telefono \")\n",
    "\n",
    "else:\n",
    "    print(f\"El numero {telefono} SI es un telefono\")\n",
    "    \n",
    " \n",
    "\n"
   ]
  },
  {
   "cell_type": "code",
   "execution_count": null,
   "metadata": {},
   "outputs": [],
   "source": [
    "\n",
    "\n",
    "contador = 30\n",
    "numero_fijo = 3\n",
    "max_saltos = 5\n",
    "\n",
    "for _ in range(max_saltos):\n",
    "    contador += numero_fijo \n",
    "    print(contador)\n"
   ]
  },
  {
   "cell_type": "code",
   "execution_count": null,
   "metadata": {},
   "outputs": [],
   "source": [
    "persona = {\n",
    "    1: {\n",
    "        \"nombre\" : \"Juan\",\n",
    "        \"edad\" : 23,\n",
    "            \n",
    "    },\n",
    "    \n",
    "    2: {\n",
    "        \"nombre\" : \"Ana\",\n",
    "        \"edad\" : 23,\n",
    "        \n",
    "        \n",
    "    },\n",
    "    3: {\n",
    "        \"nombre\" : \"Joaquin\",\n",
    "        \"edad\" : 27,\n",
    "        \n",
    "    },\n",
    "    4: {\n",
    "        \"nombre\" : \"Paco\",\n",
    "        \"edad\" : 13,\n",
    "        \n",
    "    }\n",
    "    \n",
    "}\n",
    "for elemento in persona.values():\n",
    "    edad = elemento[\"edad\"]\n",
    "    print(edad)\n",
    "    if edad < 18:\n",
    "        print(\"Eres menor de edad\")\n",
    "    elif edad > 18:\n",
    "        print(\"Eres mayor de edad\")\n",
    "    "
   ]
  },
  {
   "cell_type": "code",
   "execution_count": null,
   "metadata": {},
   "outputs": [],
   "source": [
    "#Divisible por 3 o por 5\n",
    "\n",
    "numero =int(input(\"Dame un numero:\"))\n",
    "if numero  % 3 == 0 or numero % 5 == 0:\n",
    "    print(f\"{numero}: es divisible por 3 o por 5\")\n",
    "else:\n",
    "    print(f\"{numero}: No es divisible por 3 o por 5\")\n",
    "    "
   ]
  },
  {
   "cell_type": "code",
   "execution_count": 16,
   "metadata": {},
   "outputs": [
    {
     "name": "stdout",
     "output_type": "stream",
     "text": [
      "El numero : 24 es par\n"
     ]
    }
   ],
   "source": [
    "numero = int(input(\"Dame un numero:\"))\n",
    "\n",
    "if numero % 2 == 0:\n",
    "        print(f\"El numero : {numero} si es par\")\n",
    "\n",
    "else:\n",
    "        print(f\"El numero: {numero} no es par\")\n",
    "\n",
    "\n"
   ]
  },
  {
   "cell_type": "code",
   "execution_count": null,
   "metadata": {},
   "outputs": [],
   "source": [
    "numero_1 = 0.1\n",
    "numero_2 = 0.2 \n",
    "\n",
    "resultado = numero_1 + numero_2\n",
    "print(resultado)"
   ]
  },
  {
   "cell_type": "code",
   "execution_count": null,
   "metadata": {},
   "outputs": [],
   "source": [
    "#Calcula la media de una lista \n",
    "\n",
    "lista = list(range(1,20))\n",
    "suma_lista = sum(lista)\n",
    "cantidad_lista = len(lista)\n",
    "media = sum(lista)/len(lista)\n",
    "print(lista)\n",
    "print(suma_lista)\n",
    "print(cantidad_lista)\n",
    "print(media)\n"
   ]
  }
 ],
 "metadata": {
  "kernelspec": {
   "display_name": "Python 3",
   "language": "python",
   "name": "python3"
  },
  "language_info": {
   "codemirror_mode": {
    "name": "ipython",
    "version": 3
   },
   "file_extension": ".py",
   "mimetype": "text/x-python",
   "name": "python",
   "nbconvert_exporter": "python",
   "pygments_lexer": "ipython3",
   "version": "3.12.1"
  }
 },
 "nbformat": 4,
 "nbformat_minor": 2
}
