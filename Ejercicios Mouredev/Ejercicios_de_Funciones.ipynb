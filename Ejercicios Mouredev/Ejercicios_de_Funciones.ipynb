{
 "cells": [
  {
   "cell_type": "markdown",
   "metadata": {},
   "source": [
    "Ejercicio \n",
    "\n",
    "Escribir una funcion que realize la tabla de multiplicar de un numero "
   ]
  },
  {
   "cell_type": "code",
   "execution_count": null,
   "metadata": {},
   "outputs": [],
   "source": [
    "def dibujar_tabla_del_5(): #Funcion que muestra la tabla de multiplicar del 5\n",
    "    for i in range(10):\n",
    "        print(\"6 * {} = {}\".format(i,i*6))\n",
    "\n",
    "dibujar_tabla_del_5()"
   ]
  },
  {
   "cell_type": "markdown",
   "metadata": {},
   "source": [
    "Ejercicio 1\n",
    "\n",
    "Escribir una función que muestre por pantalla el saludo ¡Hola amiga! cada vez que se la invoque."
   ]
  },
  {
   "cell_type": "code",
   "execution_count": null,
   "metadata": {},
   "outputs": [],
   "source": [
    "def saludo():     # Funcion que muestra por pantalla el saludo \"hola amiga\"\n",
    "    print(\"hola amiga\") \n",
    "    return\n",
    "\n",
    "saludo()\n"
   ]
  },
  {
   "cell_type": "markdown",
   "metadata": {},
   "source": [
    "Ejercicio 2\n",
    "\n",
    "Escribir una función a la que se le pase una cadena <nombre> y muestre por pantalla el saludo ¡hola <nombre>!."
   ]
  },
  {
   "cell_type": "code",
   "execution_count": null,
   "metadata": {},
   "outputs": [],
   "source": [
    "def greet(nombre):\n",
    "    print(f\"!Hola, {nombre}¡\")\n",
    "       \n",
    "greet(\"Paco\")\n",
    "\n",
    "\n"
   ]
  },
  {
   "cell_type": "markdown",
   "metadata": {},
   "source": [
    "Ejercicio 3\n",
    "\n",
    "Escribir una función que reciba un número entero positivo y devuelva su factorial."
   ]
  },
  {
   "cell_type": "code",
   "execution_count": null,
   "metadata": {},
   "outputs": [],
   "source": [
    "def factorial(n):\n",
    "    \n",
    "    \"\"\"Función que calcula el factorial de un número entero positivo.\n",
    "    Parámetros\n",
    "    n: Es un entero positivo.\n",
    "    Devuelve el factorial de n.\n",
    "    \"\"\"\n",
    "    tmp = 1\n",
    "    for i in range(n):\n",
    "        tmp *=i+1\n",
    "    return tmp\n",
    "\n",
    "print(factorial(4))\n",
    "print(factorial(20))\n",
    "   "
   ]
  },
  {
   "cell_type": "markdown",
   "metadata": {},
   "source": [
    "Ejercicio 4\n",
    "\n",
    "Escribir una función que calcule el total de una factura tras aplicarle el IVA. La función debe recibir la cantidad sin IVA y el porcentaje de IVA a aplicar, y devolver el total de la factura. Si se invoca la función sin pasarle el porcentaje de IVA, deberá aplicar un 21%."
   ]
  },
  {
   "cell_type": "code",
   "execution_count": null,
   "metadata": {},
   "outputs": [],
   "source": [
    "def calcular_iva(amount, vat=21):\n",
    "    \"\"\"Función de aplica el IVA a una factura.\n",
    "    Parametros\n",
    "    amount: Es la cantidad sin IVA\n",
    "    vat: Es el porcentaje de IVA\n",
    "    Devuelve el total de la factura una vez aplicado el IVA. \n",
    "    \"\"\"\n",
    "    return amount + amount*vat/100\n",
    "\n",
    "print(calcular_iva(1000,10))\n",
    "print(calcular_iva(1000))\n",
    "\n",
    "    "
   ]
  },
  {
   "cell_type": "markdown",
   "metadata": {},
   "source": [
    "Ejercicio 5\n",
    "\n",
    "Escribir una función que calcule el área de un círculo y otra que calcule el volumen de un cilindro usando la primera función"
   ]
  },
  {
   "cell_type": "code",
   "execution_count": null,
   "metadata": {},
   "outputs": [],
   "source": [
    "def area(radio):\n",
    "    \"\"\"Funcion que calcula el area de un circulo\n",
    "    Parametros\n",
    "    radio = es el radio del circulo.\n",
    "    Devuelve el area del circulode radio \"\"\"\n",
    "    \n",
    "    pi = 3.14\n",
    "    return pi*radio**2\n",
    "\n",
    "def cilindro_volumen(radio, altura):\n",
    "    \"\"\"Función que calcula el volumen de un cilindro.\n",
    "    Parámetros\n",
    "    radio: Es el radio de la base del cilindro.\n",
    "    altura: Es la altura del cilindro.\n",
    "    Devuelve el volumen del clindro de radio radius y altura high.\n",
    "    \"\"\"\n",
    "    return cilindro_volumen(radio)*altura\n",
    "\n",
    "\n",
    "print(cilindro_volumen(3, 5))\n"
   ]
  },
  {
   "cell_type": "code",
   "execution_count": null,
   "metadata": {},
   "outputs": [],
   "source": [
    "def circle_area(radius):\n",
    "    \"\"\"Función que calcula el area de un círculo.\n",
    "    Parámetros\n",
    "    radius: Es el radio del círculo.\n",
    "    Devuelve el área del círculo de radio radius. \n",
    "    \"\"\"\n",
    "    pi = 3.1415\n",
    "    return pi*radius**2\n",
    "\n",
    "def cilinder_volume(radius, high):\n",
    "    \"\"\"Función que calcula el volumen de un cilindro.\n",
    "    Parámetros\n",
    "    radius: Es el radio de la base del cilindro.\n",
    "    high: Es la altura del cilindro.\n",
    "    Devuelve el volumen del clindro de radio radius y altura high.\n",
    "    \"\"\"\n",
    "    return circle_area(radius)*high\n",
    "\n",
    "print(cilinder_volume(3,5))"
   ]
  },
  {
   "cell_type": "markdown",
   "metadata": {},
   "source": [
    "Ejercicio 6\n",
    "\n",
    "Escribir una función que reciba una muestra de números en una lista y devuelva su media."
   ]
  },
  {
   "cell_type": "code",
   "execution_count": null,
   "metadata": {},
   "outputs": [],
   "source": [
    "def mean(sample):\n",
    "    \"\"\"Función que calcula la media de una muestra de números.\n",
    "    Parámetros\n",
    "    sample: Es una lista de números\n",
    "    Devuelve la media de los números en sample. \n",
    "    \"\"\"\n",
    "    return sum(sample)/len(sample)\n",
    " \n",
    "print(mean([3, 5, 6, 8, 2]))\n",
    "print(mean([5, 67, 8, 3, 8, 9]))"
   ]
  },
  {
   "cell_type": "markdown",
   "metadata": {},
   "source": [
    "Ejercicio 7\n",
    "\n",
    "Escribir una función que reciba una muestra de números en una lista y devuelva otra lista con sus cuadrados."
   ]
  },
  {
   "cell_type": "code",
   "execution_count": null,
   "metadata": {},
   "outputs": [],
   "source": [
    "def cuadrado(sample):\n",
    "    \"\"\"Función que calcula los cuadrados de una lista de números.\n",
    "    Parámetros\n",
    "    lista: Es una lista de números\n",
    "    Devuelve una lista con los cuadrados de los números de la lista lista.\n",
    "    \"\"\"\n",
    "    list = []\n",
    "    for i in sample:\n",
    "        list.append(i**2)\n",
    "    return list\n",
    "\n",
    "print(cuadrado([3, 5, 6, 2, 7]))"
   ]
  },
  {
   "cell_type": "markdown",
   "metadata": {},
   "source": [
    "Ejercicio 8\n",
    "\n",
    "Escribir una función que reciba una muestra de números en una lista y devuelva un diccionario con su media, varianza y desviación típica."
   ]
  },
  {
   "cell_type": "code",
   "execution_count": null,
   "metadata": {},
   "outputs": [],
   "source": [
    "def square(sample):\n",
    "    \"\"\"Función que calcula los cuadrados de una lista de números.\n",
    "    Parámetros\n",
    "    lista: Es una lista de números\n",
    "    Devuelve una lista con los cuadrados de los números de la lista lista.\n",
    "    \"\"\"\n",
    "    list = []\n",
    "    for i in sample:\n",
    "        list.append(i**2)\n",
    "    return list\n",
    "\n",
    "def statistics(sample):\n",
    "    \"\"\"Función que calcula la media, varianza y desviación típica de una muestra de números.\n",
    "    Parámetros\n",
    "    sample: Es una lista de números\n",
    "    Devuelve un diccionario con la media, varianza y desviación típica de los números en sample.\n",
    "    \"\"\"\n",
    "    stat = {}\n",
    "    stat['media'] = sum(sample)/len(sample)\n",
    "    stat['varianza'] = sum(square(sample))/len(sample)-stat['media']**2\n",
    "    stat['desviacion tipica'] = stat['varianza']**0.5\n",
    "    return stat\n",
    "\n",
    "\n",
    "print(statistics([1, 2, 3, 4, 5]))\n",
    "print(statistics([2.3, 5.7, 6.8, 9.7, 12.1, 15.6]))\n",
    "    \n",
    "    "
   ]
  },
  {
   "cell_type": "markdown",
   "metadata": {},
   "source": [
    "Ejercicio 9\n",
    "\n",
    "Escribir una función que calcule el máximo común divisor de dos números y otra que calcule el mínimo común múltiplo."
   ]
  },
  {
   "cell_type": "code",
   "execution_count": null,
   "metadata": {},
   "outputs": [],
   "source": [
    "def mcd(n,m):\n",
    "    \"\"\"Funcion que calcula el maximo comun divisor de dos numeros.\n",
    "    Parametros\n",
    "    -n : Es un numero entero.\n",
    "    -m : es un numero entero.\n",
    "    Devuelve:\n",
    "    El maximo comun divisor de n y m \"\"\"\n",
    "    \n",
    "    rest = 0 \n",
    "    \n",
    "    while(m > 0):\n",
    "        rest = m\n",
    "        m = n % m\n",
    "        n = rest\n",
    "    return n\n",
    "\n",
    "def mcm(n,m):\n",
    "    \"\"\" Funcion qu ecalcula el minimo comun multiplo de dos numeros. \n",
    "    Parametros:\n",
    "    n : Es un numero entero \n",
    "    m : Es un numero entero \n",
    "    Devuelve:\n",
    "    El minimo comun multiplo de n y m \n",
    "    \"\"\"\n",
    "    \n",
    "    if n > m:\n",
    "        greater = n\n",
    "    else:\n",
    "        greate = m\n",
    "    while (greate % n != 0) or (greate % m != 0):\n",
    "        greate += 1\n",
    "    return greate\n",
    "\n",
    "print(mcd(24,36))\n",
    "print(mcm(24,36))"
   ]
  },
  {
   "cell_type": "markdown",
   "metadata": {},
   "source": [
    "Ejercicio 10\n",
    "\n",
    "Escribir una función que convierta un número decimal en binario y otra que convierta un número binario en decimal."
   ]
  },
  {
   "cell_type": "code",
   "execution_count": null,
   "metadata": {},
   "outputs": [],
   "source": [
    "def to_decimal(n):\n",
    "    \"\"\" Funcion que convierte un numero binario en decimal\n",
    "    Parametros:\n",
    "    n : Es una cadena de ceros y unos.\n",
    "    devuelve :\n",
    "    El numero decimal correspondiente a n\"\"\"\n",
    "    n = list(n)\n",
    "    n.reverse()\n",
    "    decimal = 0\n",
    "    for i in range(len(n)):\n",
    "        decimal += int(n[i]) * 2 **i\n",
    "    return decimal\n",
    "#print(to_decimal(\"000010001\"))\n",
    "\n",
    "def to_binary(n):\n",
    "    \"\"\" Funcion que convierte un numero decimal en binario. \n",
    "    Parametros:\n",
    "     - n : Es un numero entero\n",
    "     Devuelve:\n",
    "     El numero binario correspondiente a n\n",
    "     \"\"\"\n",
    "    binary =[]\n",
    "    while n > 0:\n",
    "        binary.append(str(n % 2))\n",
    "        n //= 2\n",
    "    binary.reverse()\n",
    "    return ''.join(binary)\n",
    "print(to_decimal('10110'))\n",
    "print(to_binary(22))\n",
    "print(to_decimal(to_binary(22)))\n",
    "print(to_binary(to_decimal('10110'))) "
   ]
  },
  {
   "cell_type": "markdown",
   "metadata": {},
   "source": [
    "Ejercicio 11\n",
    "\n",
    "Escribir un programa que reciba una cadena de caracteres y devuelva un diccionario con cada palabra que contiene y su frecuencia. Escribir otra función que reciba el diccionario generado con la función anterior y devuelva una tupla con la palabra más repetida y su frecuencia."
   ]
  },
  {
   "cell_type": "code",
   "execution_count": null,
   "metadata": {},
   "outputs": [],
   "source": [
    "def count_words(text):\n",
    "    \"\"\"Función que cuenta el número de veces que aparece cada palabra en un texto.\n",
    "    Parámetros:\n",
    "        - text: Es una cadena de caracteres.\n",
    "    Devuelve: \n",
    "        Un diccionario con pares palabra:frecuencia con las palabras contenidas en el texto y su frecuencia.\n",
    "    \"\"\"\n",
    "    text =  text.split()\n",
    "    words = {}\n",
    "    for i in text:\n",
    "        if i in  words:\n",
    "            words[i] += 1\n",
    "        else:\n",
    "            words[i] = 1\n",
    "    return words\n",
    "\n",
    "def most_repeated(words):\n",
    "    max_word = ''\n",
    "    max_freq = 0\n",
    "    for word, freq in words.items():\n",
    "        if freq > max_freq:\n",
    "            max_word = word\n",
    "            max_freq = freq\n",
    "    return max_word,max_freq\n",
    "\n",
    "text = 'como quieres que te quiera si el que quiero que me quiera no me quiere como quiero que me quiera'\n",
    "print(count_words(text))\n",
    "print(most_repeated(count_words(text)))"
   ]
  },
  {
   "cell_type": "markdown",
   "metadata": {},
   "source": []
  },
  {
   "cell_type": "code",
   "execution_count": null,
   "metadata": {},
   "outputs": [],
   "source": [
    "def test():\n",
    "    return \"cadena de texto\"\n",
    "test()"
   ]
  },
  {
   "cell_type": "code",
   "execution_count": null,
   "metadata": {},
   "outputs": [],
   "source": [
    "def test():         # funcion con retorno sin argumento\n",
    "    \n",
    "    return [1, 2, 3, 4, 5]\n",
    "\n",
    "print(test()) # Inprime lo retronado\n",
    "print(test() [-1]) #Imprime el ultimo numero de la lista\n",
    "print(test()[1:4]) # imprime desde la posicion 1 a la 3"
   ]
  },
  {
   "cell_type": "code",
   "execution_count": null,
   "metadata": {},
   "outputs": [],
   "source": [
    "def test():   # Funcion llamada si argumentos\n",
    "    return \"Una cadena de texto\",20 , [1, 2, 3]  # Retorno multiple separado por comas \n",
    "\n",
    "test() "
   ]
  },
  {
   "cell_type": "code",
   "execution_count": null,
   "metadata": {},
   "outputs": [],
   "source": [
    "def resta(a, b):            #Funcion con argumentos que recibe los argumentos por posicion \n",
    "    return a - b\n",
    "\n",
    "resta(30, 10) \n"
   ]
  },
  {
   "cell_type": "code",
   "execution_count": null,
   "metadata": {},
   "outputs": [],
   "source": [
    "def resta(a = 30, b = 10):  # Funcion con argumentos que recibe los parametros a partir de su nombre\n",
    "    return a - b\n",
    "\n",
    "resta() \n"
   ]
  },
  {
   "cell_type": "code",
   "execution_count": null,
   "metadata": {},
   "outputs": [],
   "source": [
    "def doblar_valores(numero):        #Funicion que dobla el valor de los numero de una lista            \n",
    "    for i,n in enumerate(numero):\n",
    "        numero[i] *= 2\n",
    "\n",
    "ns =[23, 45, 67]\n",
    "doblar_valores(ns)\n",
    "print(ns)"
   ]
  },
  {
   "cell_type": "code",
   "execution_count": null,
   "metadata": {},
   "outputs": [],
   "source": [
    "def doblar_valor(numero):   # Funcion que dobla el valor del numero introducido\n",
    "    return numero * 2\n",
    "\n",
    "n =int(input(\" Introduce un numero positivo:\"))\n",
    "n = doblar_valor(n)\n",
    "print(n)"
   ]
  },
  {
   "cell_type": "markdown",
   "metadata": {},
   "source": [
    "Crear un programa que toma las tres notas de un estudiante y diga la nota final del curso.\n",
    "Tenga en cuenta que la primera y segunda nota valen el 30 % de la nota final. La tercera nota vale el 40 %"
   ]
  },
  {
   "cell_type": "code",
   "execution_count": null,
   "metadata": {},
   "outputs": [],
   "source": [
    "\n",
    "\n",
    "def calcular_nota (n1, n2, n3 ):\n",
    "    return(n1*0.3) + (n2*0.3) + (n3*0.4)\n",
    "\"\"\"\n",
    "Funcion que toma las tres notas y devuelve la nota final \n",
    "teniendo encuenta, que cada nota tiene un porcentaje en la nota final\n",
    "\"\"\"\n",
    "n1 =float(input(\"Introduce l aprimera nota:\"))\n",
    "n2 =float(input(\"Introduce la segunda nota:\"))\n",
    "n3 =float(input(\"Introduce la tercera nota:\"))\n",
    "\n",
    "nota_final = calcular_nota(n1, n2, n3)\n",
    "print(\"La nota final del estudiante es :\", round(nota_final,2))\n",
    "\n"
   ]
  },
  {
   "cell_type": "markdown",
   "metadata": {},
   "source": [
    "Crea una funcion que calcule el IVA de una compra, siendo el IVA del 19% sobre el total de la compra"
   ]
  },
  {
   "cell_type": "code",
   "execution_count": null,
   "metadata": {},
   "outputs": [],
   "source": [
    "def calcular_iva(p):\n",
    "    iva = p*0.19\n",
    "    return iva\n",
    "\"\"\"\n",
    "Funcion que calcula el IVA de una compra \n",
    "\n",
    "\"\"\"\n",
    "\n",
    "\n",
    "precio_compra =float(input(\" Introduce el precio de la compra: \"))\n",
    "iva = calcular_iva(precio_compra)\n",
    "print(\" El valor de la compra sin IVA es de: \", precio_compra, \"€\")\n",
    "print(\" EL valor a pagar en total (IVA incluido) es de: \", (precio_compra+iva), \"€\")\n",
    "\n"
   ]
  },
  {
   "cell_type": "markdown",
   "metadata": {},
   "source": [
    "Crea una funcio que calcule la tablea de multiplicar de cualquier numero entero introducido por el usuario"
   ]
  },
  {
   "cell_type": "code",
   "execution_count": null,
   "metadata": {},
   "outputs": [],
   "source": [
    "def tabla_multiplicar(n1, n2):\n",
    "    return str(n1) + \" * \"+ str(n2) + \" = \" + str(n1*n2)\n",
    "\"\"\"\n",
    "Funcion que calcula la tabla de multiplicar de un numero positivo introducido por el usuario \n",
    "\"\"\"\n",
    "comprobar = True\n",
    "while comprobar:\n",
    "\n",
    "    n =int(input(\" Introduce un numero entero positivo : \"))\n",
    "    if n >1:\n",
    "        comprobar = False\n",
    "        for i in range(1, 11):\n",
    "            print(tabla_multiplicar(n, i))\n",
    "\n",
    "    else:\n",
    "        print(\" El numero introducido no es correcto, intentelo de nuevo \")\n"
   ]
  },
  {
   "cell_type": "markdown",
   "metadata": {},
   "source": [
    "Crear un programa que valide si una contraseña especifica por el usuario es segura\n",
    "Tiene mas de 8 caracteres\n",
    "Tiene al menos una letra mayuscula\n",
    "Tiene al menos un numero "
   ]
  },
  {
   "cell_type": "code",
   "execution_count": null,
   "metadata": {},
   "outputs": [],
   "source": [
    "def comprobar_contraseña(contraseña):\n",
    "    \n",
    "    largo = False\n",
    "    mayus = False\n",
    "    numer = False\n",
    "    \n",
    "    if len(contraseña) > 8:\n",
    "        largo = True\n",
    "    for i in range(len(contraseña)):\n",
    "        if contraseña[i].isupper():\n",
    "            mayus = True\n",
    "        if contraseña[i].isnumeric():\n",
    "            numer = True\n",
    "    \n",
    "    if largo and mayus and numer:\n",
    "        return True\n",
    "    \n",
    "    else:\n",
    "        return False\n",
    "\"\"\"\n",
    "Funcion que comprueba que una contraseña introducida por el usuario cumple o no \n",
    "con los requisitos establecidos para que sea segura\n",
    "\"\"\"    \n",
    "        \n",
    "contraseña = (input(\" Introduce una contraseña:\"))\n",
    "verificacion = comprobar_contraseña(contraseña)\n",
    "if verificacion:\n",
    "    print(\" La contraseña es segura\")\n",
    "else:\n",
    "    print(\"La contraseña no es segura:\")\n",
    "    "
   ]
  },
  {
   "cell_type": "markdown",
   "metadata": {},
   "source": [
    "Crea un programa que valide si el numero introducido es primo   "
   ]
  },
  {
   "cell_type": "code",
   "execution_count": null,
   "metadata": {},
   "outputs": [],
   "source": [
    "def numero_primo(n):\n",
    "    \n",
    "      \n",
    "    if n <= 1:\n",
    "        return False\n",
    "    elif n == 2: \n",
    "        return True\n",
    "    \n",
    "    else:\n",
    "        for i in range(2, n):\n",
    "            if n % i == 0:\n",
    "                return False\n",
    "        return True\n",
    "\n",
    "for i in range( 0, 50):\n",
    "    print(i,\"\",numero_primo(i))\n",
    "\n",
    "print(numero_primo(367))\n",
    "\n",
    "    \n",
    "\n",
    "\n"
   ]
  },
  {
   "cell_type": "markdown",
   "metadata": {},
   "source": [
    "Crea un programa que calcule el nuevo salario de un trabajador si obtuvo un incremento de X%"
   ]
  },
  {
   "cell_type": "code",
   "execution_count": null,
   "metadata": {},
   "outputs": [],
   "source": [
    "def calcular_incremento(salario, x):\n",
    "    nuevo_salario = salario_actual + (salario * (x/100))\n",
    "    return nuevo_salario\n",
    "    \n",
    "salario_actual = float(input(\" Introduce el salario actual del trabajador: \"))\n",
    "incremento = float(input(\" Ingresa el porcentaje de incremento qu etendra el salario del trabajador: \"))\n",
    "\n",
    "nuevo_salario = calcular_incremento(salario_actual, incremento)\n",
    "print(\" El nuevo salario del trabajador es de: \", nuevo_salario, \"€\")"
   ]
  },
  {
   "cell_type": "markdown",
   "metadata": {},
   "source": [
    "Crear un programa que pida dos numeros al usuario y una operacion matamatica a ejecutar con esos dos numeros.\n",
    "\n",
    "Las operaciones son:\n",
    "-> Suma\n",
    "-> Resta ( al primero menos el segundo)\n",
    "-> Multiplicacion\n",
    "-> Division ( al primero como al segundo)\n",
    "-> Exponente ( El primer es la base y el segundo el exponente)\n",
    "-> Raiz cuadrada (El primero es el radicando y el segundo el indice) "
   ]
  },
  {
   "cell_type": "code",
   "execution_count": null,
   "metadata": {},
   "outputs": [],
   "source": [
    "def suma(a, b):\n",
    "    return a + b\n",
    "\n",
    "def resta(a, b):\n",
    "    return a - b\n",
    "\n",
    "def multiplicacion(a, b):\n",
    "    return a * b\n",
    "\n",
    "def division( a, b):\n",
    "    return a / b\n",
    "\n",
    "def exponente(a, b):\n",
    "    return a ** b\n",
    "\n",
    "def raiz(a, b):\n",
    "    return a ** (1/b)\n",
    "\n",
    "\n",
    "\n",
    "n1 =int(input(\" Introduce el primer numero\"))\n",
    "n2 =int(input(\" Introduce el segundo numero\"))\n",
    "print(\" 1. Suma\")\n",
    "print(\" 2. Resta\")\n",
    "print(\" 3. Multiplicacion\")\n",
    "print(\" 4. Division\")\n",
    "print(\" 5. Exponente\")\n",
    "print(\" 6. Raiz Cuadrada\")\n",
    "opcion = int(input(\" Introduce la opcion que desee: \"))\n",
    "\n",
    "if opcion == 1:\n",
    "    print(n1, \"+\", n2, \"=\", suma(n1, n2))\n",
    "elif opcion == 2:\n",
    "    print(n1, \"-\", n2, \"=\", resta(n1, n2) )\n",
    "elif opcion == 3:\n",
    "    print(n1, \"*\", n2, \"=\", multiplicacion(n1, n2) )\n",
    "elif opcion == 4:\n",
    "    print(n1, \"/\", n2, \"=\", division(n1, n2) )\n",
    "elif opcion == 5:\n",
    "    print(n1, \"^\", n2, \"=\", exponente(n1, n2) )\n",
    "elif opcion == 6:\n",
    "    print(n1, \"R^\", n2, \"=\", raiz(n1, n2) )\n",
    "else:\n",
    "    print(\" Introduce una opcion valida\")\n"
   ]
  },
  {
   "cell_type": "markdown",
   "metadata": {},
   "source": [
    "crear un programa que calcule en segundos, los dias, horas, minutos y segundos introducidos por el usuario."
   ]
  },
  {
   "cell_type": "code",
   "execution_count": null,
   "metadata": {},
   "outputs": [],
   "source": [
    "def calcular_segundos(dias, horas, minutos, segundos):\n",
    "    \n",
    "    segundos_totales = segundos\n",
    "    segundos_totales += minutos * 60\n",
    "    segundos_totales += horas * 60 * 60\n",
    "    segundos_totales += dias * 24 * 60 * 60\n",
    "    return segundos_totales\n",
    "\n",
    "dias =int(input(\" introduce el numero de dias a calcular:\"))\n",
    "horas =int(input(\" introduce el numero de horas a calcular:\"))\n",
    "minutos =int(input(\" introduce el numero de minutos a calcular:\"))\n",
    "segundos =int(input(\" introduce el numero de segundos a calcular:\"))\n",
    "\n",
    "segundos_totales = calcular_segundos(dias, horas, minutos, segundos)\n",
    "print(\"La cantidad de segundos en el tiempo introducido es de: \", segundos_totales)\n"
   ]
  },
  {
   "cell_type": "markdown",
   "metadata": {},
   "source": [
    "Crea un programa que calcule el IMC de una persona dado su peso y estatura "
   ]
  },
  {
   "cell_type": "code",
   "execution_count": null,
   "metadata": {},
   "outputs": [],
   "source": [
    "def calculo_imc(p, a):\n",
    "    return p / (a * a)\n",
    "\n",
    "def nivel_peso(imc):\n",
    "    \n",
    "    if imc < 18.5:\n",
    "        return \"Bajo peso\"\n",
    "    elif 18.5 <= imc <= 24.9:\n",
    "        return \"Normal\"\n",
    "    elif 25 <= imc <= 29.9:\n",
    "        return \" Sobrepeso\"\n",
    "    elif 30 <= imc <= 34.9:\n",
    "        return \" Obesidad I\"\n",
    "    elif 35 <= imc <= 39.9:\n",
    "        return \" Obesidad II\"\n",
    "    elif 40 <= imc <= 49.9:\n",
    "        return \" Obesidad III\"\n",
    "    elif imc >= 50:\n",
    "        return \" Obesidad IV\" \n",
    "\n",
    "peso = float(input(\" Introduce el peso (Kg):\"))\n",
    "altura = float(input(\" introduce la altura (m): \"))\n",
    "print(\"El nivel de peso es: \",nivel_peso(calculo_imc(peso, altura)))\n"
   ]
  },
  {
   "cell_type": "markdown",
   "metadata": {},
   "source": [
    "Crear un funcion que compruebe si una frase o palabra es palindroma\n",
    "\n",
    "Tener en cuenta que no se tiene en cuenta ni los espacios ni las mayusculas ni las tildes"
   ]
  },
  {
   "cell_type": "code",
   "execution_count": null,
   "metadata": {},
   "outputs": [],
   "source": [
    "def es_palindromo(palabra):\n",
    "    \n",
    "    palabra = palabra.lower()  # convertimos todas las letras a minusculas\n",
    "    palabra = palabra.replace(\" \", \"\")  # quitamos los espacios\n",
    "    palabra = palabra.replace(\"á\", \"a\") \n",
    "    palabra = palabra.replace(\"é\", \"e\") \n",
    "    palabra = palabra.replace(\"í\", \"i\") \n",
    "    palabra = palabra.replace(\"ó\", \"o\") \n",
    "    palabra = palabra.replace(\"ú\", \"u\") \n",
    "    \n",
    "    a = 0\n",
    "    b = len(palabra) -1\n",
    "    \n",
    "    for i in range(0, len(palabra)):\n",
    "        if palabra[a] == palabra[b]:\n",
    "            a += 1\n",
    "            b -= 1\n",
    "        \n",
    "        else:\n",
    "            return False\n",
    "    return True\n",
    "\n",
    "palabra = input(\" Introduce una palabra o una frase : \")\n",
    "\n",
    "if es_palindromo(palabra):\n",
    "    print(\" Es una palabra o frase palindroma.\")\n",
    "else:\n",
    "    print( \"La apalabra introducida no es palindroma\")"
   ]
  }
 ],
 "metadata": {
  "kernelspec": {
   "display_name": "Python 3",
   "language": "python",
   "name": "python3"
  },
  "language_info": {
   "codemirror_mode": {
    "name": "ipython",
    "version": 3
   },
   "file_extension": ".py",
   "mimetype": "text/x-python",
   "name": "python",
   "nbconvert_exporter": "python",
   "pygments_lexer": "ipython3",
   "version": "3.12.1"
  }
 },
 "nbformat": 4,
 "nbformat_minor": 2
}
