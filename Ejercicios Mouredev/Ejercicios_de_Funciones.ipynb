{
 "cells": [
  {
   "cell_type": "markdown",
   "metadata": {},
   "source": [
    "Ejercicio 1\n",
    "\n",
    "Escribir una función que muestre por pantalla el saludo ¡Hola amiga! cada vez que se la invoque."
   ]
  },
  {
   "cell_type": "code",
   "execution_count": null,
   "metadata": {},
   "outputs": [],
   "source": [
    "def saludo():     # Funcion que muestra por pantalla el saludo \"hola amiga\"\n",
    "    print(\"hola amiga\") \n",
    "    return\n",
    "\n",
    "saludo()\n"
   ]
  },
  {
   "cell_type": "markdown",
   "metadata": {},
   "source": [
    "Ejercicio 2\n",
    "\n",
    "Escribir una función a la que se le pase una cadena <nombre> y muestre por pantalla el saludo ¡hola <nombre>!."
   ]
  },
  {
   "cell_type": "code",
   "execution_count": null,
   "metadata": {},
   "outputs": [],
   "source": [
    "def greet(nombre):\n",
    "    print(f\"!Hola, {nombre}¡\")\n",
    "       \n",
    "greet(\"Paco\")\n",
    "\n",
    "\n"
   ]
  },
  {
   "cell_type": "markdown",
   "metadata": {},
   "source": [
    "Ejercicio 3\n",
    "\n",
    "Escribir una función que reciba un número entero positivo y devuelva su factorial."
   ]
  },
  {
   "cell_type": "code",
   "execution_count": null,
   "metadata": {},
   "outputs": [],
   "source": [
    "def factorial(n):\n",
    "    \n",
    "    \"\"\"Función que calcula el factorial de un número entero positivo.\n",
    "    Parámetros\n",
    "    n: Es un entero positivo.\n",
    "    Devuelve el factorial de n.\n",
    "    \"\"\"\n",
    "    tmp = 1\n",
    "    for i in range(n):\n",
    "        tmp *=i+1\n",
    "    return tmp\n",
    "\n",
    "print(factorial(4))\n",
    "print(factorial(20))\n",
    "   "
   ]
  },
  {
   "cell_type": "markdown",
   "metadata": {},
   "source": [
    "Ejercicio 4\n",
    "\n",
    "Escribir una función que calcule el total de una factura tras aplicarle el IVA. La función debe recibir la cantidad sin IVA y el porcentaje de IVA a aplicar, y devolver el total de la factura. Si se invoca la función sin pasarle el porcentaje de IVA, deberá aplicar un 21%."
   ]
  },
  {
   "cell_type": "code",
   "execution_count": null,
   "metadata": {},
   "outputs": [],
   "source": [
    "def calcular_iva(amount, vat=21):\n",
    "    \"\"\"Función de aplica el IVA a una factura.\n",
    "    Parametros\n",
    "    amount: Es la cantidad sin IVA\n",
    "    vat: Es el porcentaje de IVA\n",
    "    Devuelve el total de la factura una vez aplicado el IVA. \n",
    "    \"\"\"\n",
    "    return amount + amount*vat/100\n",
    "\n",
    "print(calcular_iva(1000,10))\n",
    "print(calcular_iva(1000))\n",
    "\n",
    "    "
   ]
  },
  {
   "cell_type": "markdown",
   "metadata": {},
   "source": [
    "Ejercicio 5\n",
    "\n",
    "Escribir una función que calcule el área de un círculo y otra que calcule el volumen de un cilindro usando la primera función"
   ]
  },
  {
   "cell_type": "code",
   "execution_count": null,
   "metadata": {},
   "outputs": [],
   "source": [
    "def area(radio):\n",
    "    \"\"\"Funcion que calcula el area de un circulo\n",
    "    Parametros\n",
    "    radio = es el radio del circulo.\n",
    "    Devuelve el area del circulode radio \"\"\"\n",
    "    \n",
    "    pi = 3.14\n",
    "    return pi*radio**2\n",
    "\n",
    "def cilindro_volumen(radio, altura):\n",
    "    \"\"\"Función que calcula el volumen de un cilindro.\n",
    "    Parámetros\n",
    "    radio: Es el radio de la base del cilindro.\n",
    "    altura: Es la altura del cilindro.\n",
    "    Devuelve el volumen del clindro de radio radius y altura high.\n",
    "    \"\"\"\n",
    "    return cilindro_volumen(radio)*altura\n",
    "\n",
    "\n",
    "print(cilindro_volumen(3, 5))\n"
   ]
  },
  {
   "cell_type": "code",
   "execution_count": 30,
   "metadata": {},
   "outputs": [
    {
     "name": "stdout",
     "output_type": "stream",
     "text": [
      "141.3675\n"
     ]
    }
   ],
   "source": [
    "def circle_area(radius):\n",
    "    \"\"\"Función que calcula el area de un círculo.\n",
    "    Parámetros\n",
    "    radius: Es el radio del círculo.\n",
    "    Devuelve el área del círculo de radio radius. \n",
    "    \"\"\"\n",
    "    pi = 3.1415\n",
    "    return pi*radius**2\n",
    "\n",
    "def cilinder_volume(radius, high):\n",
    "    \"\"\"Función que calcula el volumen de un cilindro.\n",
    "    Parámetros\n",
    "    radius: Es el radio de la base del cilindro.\n",
    "    high: Es la altura del cilindro.\n",
    "    Devuelve el volumen del clindro de radio radius y altura high.\n",
    "    \"\"\"\n",
    "    return circle_area(radius)*high\n",
    "\n",
    "print(cilinder_volume(3,5))"
   ]
  },
  {
   "cell_type": "markdown",
   "metadata": {},
   "source": [
    "Ejercicio 6\n",
    "\n",
    "Escribir una función que reciba una muestra de números en una lista y devuelva su media."
   ]
  },
  {
   "cell_type": "code",
   "execution_count": null,
   "metadata": {},
   "outputs": [],
   "source": [
    "def mean(sample):\n",
    "    \"\"\"Función que calcula la media de una muestra de números.\n",
    "    Parámetros\n",
    "    sample: Es una lista de números\n",
    "    Devuelve la media de los números en sample. \n",
    "    \"\"\"\n",
    "    return sum(sample)/len(sample)\n",
    " \n",
    "print(mean([3, 5, 6, 8, 2]))\n",
    "print(mean([5, 67, 8, 3, 8, 9]))"
   ]
  },
  {
   "cell_type": "markdown",
   "metadata": {},
   "source": [
    "Ejercicio 7\n",
    "\n",
    "Escribir una función que reciba una muestra de números en una lista y devuelva otra lista con sus cuadrados."
   ]
  },
  {
   "cell_type": "code",
   "execution_count": 39,
   "metadata": {},
   "outputs": [
    {
     "name": "stdout",
     "output_type": "stream",
     "text": [
      "[9, 25, 36, 4, 49]\n"
     ]
    }
   ],
   "source": [
    "def cuadrado(sample):\n",
    "    \"\"\"Función que calcula los cuadrados de una lista de números.\n",
    "    Parámetros\n",
    "    lista: Es una lista de números\n",
    "    Devuelve una lista con los cuadrados de los números de la lista lista.\n",
    "    \"\"\"\n",
    "    list = []\n",
    "    for i in sample:\n",
    "        list.append(i**2)\n",
    "    return list\n",
    "\n",
    "print(cuadrado([3, 5, 6, 2, 7]))"
   ]
  },
  {
   "cell_type": "markdown",
   "metadata": {},
   "source": [
    "Ejercicio 8\n",
    "\n",
    "Escribir una función que reciba una muestra de números en una lista y devuelva un diccionario con su media, varianza y desviación típica."
   ]
  },
  {
   "cell_type": "code",
   "execution_count": null,
   "metadata": {},
   "outputs": [],
   "source": [
    "def square(sample):\n",
    "    \"\"\"Función que calcula los cuadrados de una lista de números.\n",
    "    Parámetros\n",
    "    lista: Es una lista de números\n",
    "    Devuelve una lista con los cuadrados de los números de la lista lista.\n",
    "    \"\"\"\n",
    "    list = []\n",
    "    for i in sample:\n",
    "        list.append(i**2)\n",
    "    return list\n",
    "\n",
    "def statistics(sample):\n",
    "    \"\"\"Función que calcula la media, varianza y desviación típica de una muestra de números.\n",
    "    Parámetros\n",
    "    sample: Es una lista de números\n",
    "    Devuelve un diccionario con la media, varianza y desviación típica de los números en sample.\n",
    "    \"\"\"\n",
    "    stat = {}\n",
    "    stat['media'] = sum(sample)/len(sample)\n",
    "    stat['varianza'] = sum(square(sample))/len(sample)-stat['media']**2\n",
    "    stat['desviacion tipica'] = stat['varianza']**0.5\n",
    "    return stat\n",
    "\n",
    "\n",
    "print(statistics([1, 2, 3, 4, 5]))\n",
    "print(statistics([2.3, 5.7, 6.8, 9.7, 12.1, 15.6]))\n",
    "    \n",
    "    "
   ]
  },
  {
   "cell_type": "markdown",
   "metadata": {},
   "source": [
    "Ejercicio 9\n",
    "\n",
    "Escribir una función que calcule el máximo común divisor de dos números y otra que calcule el mínimo común múltiplo."
   ]
  },
  {
   "cell_type": "code",
   "execution_count": 2,
   "metadata": {},
   "outputs": [
    {
     "name": "stdout",
     "output_type": "stream",
     "text": [
      "12\n",
      "72\n"
     ]
    }
   ],
   "source": [
    "def mcd(n,m):\n",
    "    \"\"\"Funcion que calcula el maximo comun divisor de dos numeros.\n",
    "    Parametros\n",
    "    -n : Es un numero entero.\n",
    "    -m : es un numero entero.\n",
    "    Devuelve:\n",
    "    El maximo comun divisor de n y m \"\"\"\n",
    "    \n",
    "    rest = 0 \n",
    "    \n",
    "    while(m > 0):\n",
    "        rest = m\n",
    "        m = n % m\n",
    "        n = rest\n",
    "    return n\n",
    "\n",
    "def mcm(n,m):\n",
    "    \"\"\" Funcion qu ecalcula el minimo comun multiplo de dos numeros. \n",
    "    Parametros:\n",
    "    n : Es un numero entero \n",
    "    m : Es un numero entero \n",
    "    Devuelve:\n",
    "    El minimo comun multiplo de n y m \n",
    "    \"\"\"\n",
    "    \n",
    "    if n > m:\n",
    "        greater = n\n",
    "    else:\n",
    "        greate = m\n",
    "    while (greate % n != 0) or (greate % m != 0):\n",
    "        greate += 1\n",
    "    return greate\n",
    "\n",
    "print(mcd(24,36))\n",
    "print(mcm(24,36))"
   ]
  },
  {
   "cell_type": "markdown",
   "metadata": {},
   "source": [
    "Ejercicio 10\n",
    "\n",
    "Escribir una función que convierta un número decimal en binario y otra que convierta un número binario en decimal."
   ]
  },
  {
   "cell_type": "code",
   "execution_count": null,
   "metadata": {},
   "outputs": [],
   "source": [
    "def to_decimal(n):\n",
    "    \"\"\" Funcion que convierte un numero binario en decimal\n",
    "    Parametros:\n",
    "    n : Es una cadena de ceros y unos.\n",
    "    devuelve :\n",
    "    El numero decimal correspondiente a n\"\"\"\n",
    "    n = list(n)\n",
    "    n.reverse()\n",
    "    decimal = 0\n",
    "    for i in range(len(n)):\n",
    "        decimal += int(n[i]) * 2 **i\n",
    "    return decimal\n",
    "#print(to_decimal(\"000010001\"))\n",
    "\n",
    "def to_binary(n):\n",
    "    \"\"\" Funcion que convierte un numero decimal en binario. \n",
    "    Parametros:\n",
    "     - n : Es un numero entero\n",
    "     Devuelve:\n",
    "     El numero binario correspondiente a n\n",
    "     \"\"\"\n",
    "    binary =[]\n",
    "    while n > 0:\n",
    "        binary.append(str(n % 2))\n",
    "        n //= 2\n",
    "    binary.reverse()\n",
    "    return ''.join(binary)\n",
    "print(to_decimal('10110'))\n",
    "print(to_binary(22))\n",
    "print(to_decimal(to_binary(22)))\n",
    "print(to_binary(to_decimal('10110'))) "
   ]
  },
  {
   "cell_type": "markdown",
   "metadata": {},
   "source": [
    "Ejercicio 11\n",
    "\n",
    "Escribir un programa que reciba una cadena de caracteres y devuelva un diccionario con cada palabra que contiene y su frecuencia. Escribir otra función que reciba el diccionario generado con la función anterior y devuelva una tupla con la palabra más repetida y su frecuencia."
   ]
  },
  {
   "cell_type": "code",
   "execution_count": null,
   "metadata": {},
   "outputs": [],
   "source": [
    "def count_words(text):\n",
    "    \"\"\"Función que cuenta el número de veces que aparece cada palabra en un texto.\n",
    "    Parámetros:\n",
    "        - text: Es una cadena de caracteres.\n",
    "    Devuelve: \n",
    "        Un diccionario con pares palabra:frecuencia con las palabras contenidas en el texto y su frecuencia.\n",
    "    \"\"\"\n",
    "    text =  text.split()\n",
    "    words = {}\n",
    "    for i in text:\n",
    "        if i in  words:\n",
    "            words[i] += 1\n",
    "        else:\n",
    "            words[i] = 1\n",
    "    return words\n",
    "\n",
    "def most_repeated(words):\n",
    "    max_word = ''\n",
    "    max_freq = 0\n",
    "    for word, freq in words.items():\n",
    "        if freq > max_freq:\n",
    "            max_word = word\n",
    "            max_freq = freq\n",
    "    return max_word,max_freq\n",
    "\n",
    "text = 'como quieres que te quiera si el que quiero que me quiera no me quiere como quiero que me quiera'\n",
    "print(count_words(text))\n",
    "print(most_repeated(count_words(text)))"
   ]
  }
 ],
 "metadata": {
  "kernelspec": {
   "display_name": "Python 3",
   "language": "python",
   "name": "python3"
  },
  "language_info": {
   "codemirror_mode": {
    "name": "ipython",
    "version": 3
   },
   "file_extension": ".py",
   "mimetype": "text/x-python",
   "name": "python",
   "nbconvert_exporter": "python",
   "pygments_lexer": "ipython3",
   "version": "3.12.1"
  }
 },
 "nbformat": 4,
 "nbformat_minor": 2
}
