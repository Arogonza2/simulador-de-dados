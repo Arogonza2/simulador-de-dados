{
 "cells": [
  {
   "cell_type": "markdown",
   "metadata": {},
   "source": [
    "Ejercicio 1\n",
    "\n",
    "Escribir un programa que guarde en una variable el diccionario {'Euro':'€', 'Dollar':'$', 'Yen':'¥'}, pregunte al usuario por una divisa y muestre su símbolo o un mensaje de aviso si la divisa no está en el diccionario."
   ]
  },
  {
   "cell_type": "code",
   "execution_count": null,
   "metadata": {},
   "outputs": [],
   "source": [
    "divisas = {\"Euro\":\"€\", \"Dolar\":\"$\", \"Yen\":\"¥\"}\n",
    "moneda = input( \"Dime una divisa:\")\n",
    "if moneda.title()in divisas:\n",
    "    print(divisas[moneda.title()])\n",
    "else:\n",
    "    print(\" La divisa indicada no esta.\")\n"
   ]
  },
  {
   "cell_type": "markdown",
   "metadata": {},
   "source": [
    "Ejercicio 2\n",
    "\n",
    "Escribir un programa que pregunte al usuario su nombre, edad, dirección y teléfono y lo guarde en un diccionario. \n",
    "Después debe mostrar por pantalla el mensaje <nombre> tiene <edad> años, vive en <dirección> y su número de teléfono es <teléfono>."
   ]
  },
  {
   "cell_type": "code",
   "execution_count": null,
   "metadata": {},
   "outputs": [],
   "source": [
    "nombre = input(\" ¿Como te llamas?\")\n",
    "edad = input(\" ¿ Cuentos años tienes?\")\n",
    "direccion = input( \" ¿ Cual es tu direccion?\")\n",
    "telefono =input(\" ¿Cuel es tu noimerpo de trelefono?\")\n",
    "persona = {\"nombre\":nombre, \"edad\": edad,  \"direccion\": direccion, \"telefono\":telefono }\n",
    "print(persona[\"nombre\"],\" tiene \",persona[\"edad\"], \" años ,vive en C/ \",persona[\"direccion\"], \" y su numero de telefono es \",persona[\"telefono\"])\n",
    " \n",
    " "
   ]
  },
  {
   "cell_type": "markdown",
   "metadata": {},
   "source": [
    "Ejercicio 3\n",
    "\n",
    "Escribir un programa que guarde en un diccionario los precios de las frutas de la tabla, pregunte al usuario por una fruta, un número de kilos y muestre por pantalla el precio de ese número de kilos de fruta. Si la fruta no está en el diccionario debe mostrar un mensaje informando de ello.\n",
    "\n",
    "Fruta\tPrecio\n",
    "Plátano\t1.35\n",
    "Manzana\t0.80\n",
    "Pera\t0.85\n",
    "Naranja\t0.70"
   ]
  },
  {
   "cell_type": "code",
   "execution_count": null,
   "metadata": {},
   "outputs": [],
   "source": [
    "frutas = {\"Platano\": (1.35), \"Manzana\": (0.80), \"Pera\": (0.85), \"Naranja\": (0.70)}\n",
    "fruta = input(\" ¿Que fruta quiere? \").title()\n",
    "kilos = float(input(\" ¿Cuantos kilos quiere?\"))\n",
    "if fruta in frutas:\n",
    "    print(kilos, 'kilos de', fruta, 'valen', frutas[fruta]*kilos, '€')\n",
    "else:\n",
    "    print(\"Lo siento, la fruta\", fruta, \" no esta disponible.\")"
   ]
  },
  {
   "cell_type": "markdown",
   "metadata": {},
   "source": [
    "Ejercicio 4\n",
    "\n",
    "Escribir un programa que pregunte una fecha en formato dd/mm/aaaa y muestre por pantalla la misma fecha en formato dd de <mes> de aaaa donde <mes> es el nombre del mes."
   ]
  },
  {
   "cell_type": "code",
   "execution_count": 19,
   "metadata": {},
   "outputs": [
    {
     "name": "stdout",
     "output_type": "stream",
     "text": [
      "23 de Noviembre de 2020\n"
     ]
    }
   ],
   "source": [
    "meses = { 1: \"Enero\", 2: \"Febrero\", 3: \"Marzo\", 4: \"Abril\", 5: \"Mayo\", 6:\"Junio\", 7:\"Julio\", 8: \"Agosto\",9: \"Septiembre\", 10: \"Octubre\", 11: \"Noviembre\", 12 :\"Diciembre\"} \n",
    "fecha = input(\" Introduce una fecha en formato dd/mm/aaaa: \")\n",
    "fecha= fecha.split(\"/\")\n",
    "print(fecha[0], \"de\", meses[int(fecha[1])], \"de\", fecha[2])\n",
    "\n"
   ]
  },
  {
   "cell_type": "markdown",
   "metadata": {},
   "source": [
    "Ejercicio 5\n",
    "\n",
    "Escribir un programa que almacene el diccionario con los créditos de las asignaturas de un curso {'Matemáticas': 6, 'Física': 4, 'Química': 5} y después muestre por pantalla los créditos de cada asignatura en el formato <asignatura> tiene <créditos> créditos, donde <asignatura> es cada una de las asignaturas del curso, y <créditos> son sus créditos. Al final debe mostrar también el número total de créditos del curso."
   ]
  },
  {
   "cell_type": "code",
   "execution_count": null,
   "metadata": {},
   "outputs": [],
   "source": [
    "curso = {\"Matematicas\": 6, \"Fisica\": 4, \"Quimica\": 5, \"Lengua\": 8}\n",
    "total_creditos = 0\n",
    "for asignatura, creditos in curso.items():\n",
    "    print(asignatura, 'tiene', creditos, 'creditos')\n",
    "    total_creditos += creditos\n",
    "print('Numero total de creditos del curso:', total_creditos)"
   ]
  },
  {
   "cell_type": "markdown",
   "metadata": {},
   "source": [
    "Ejercicio 6\n",
    "\n",
    "Escribir un programa que cree un diccionario vacío y lo vaya llenado con información sobre una persona\n",
    " (por ejemplo nombre, edad, sexo, teléfono, correo electrónico, etc.) que se le pida al usuario. Cada vez que se añada un nuevo dato debe imprimirse el contenido del diccionario."
   ]
  },
  {
   "cell_type": "code",
   "execution_count": null,
   "metadata": {},
   "outputs": [],
   "source": [
    "persona = {}\n",
    "continuar = True\n",
    "while continuar:\n",
    "    clave = input('¿Qué dato quieres introducir? ')\n",
    "    valor = input(clave + ': ')\n",
    "    persona[clave] = valor\n",
    "    print(persona)\n",
    "    continuar = input('¿Quieres añadir más información (Si/No)? ').title() == \"Si\""
   ]
  },
  {
   "cell_type": "markdown",
   "metadata": {},
   "source": [
    "Ejercicio 7\n",
    "\n",
    "Escribir un programa que cree un diccionario simulando una cesta de la compra. El programa debe preguntar el artículo y su precio y añadir el par al diccionario, hasta que el usuario decida terminar. Después se debe mostrar por pantalla la lista de la compra y el coste total, con el siguiente formato\n",
    "\n",
    "Lista de la compra\t\n",
    "Artículo 1\tPrecio\n",
    "Artículo 2\tPrecio\n",
    "Artículo 3\tPrecio\n",
    "…\t…\n",
    "Total\tCoste"
   ]
  },
  {
   "cell_type": "code",
   "execution_count": null,
   "metadata": {},
   "outputs": [],
   "source": [
    "# Lista de la compra\n",
    "\n",
    "cesta = {}\n",
    "continuar = True\n",
    "while continuar:\n",
    "    item = input(\" Introduce un articulo: \").capitalize()\n",
    "    precio = float(input(\"Introduce el precio de \" + item + \": \"))\n",
    "    cesta[item] = precio\n",
    "    continuar = input( \"¿ Quieres añadir mas articulos a la lista? ( SI / No)\").title() == \"Si\"\n",
    "coste = 0\n",
    "print(\"Lista de la compra\")\n",
    "for item, precio in cesta.items():\n",
    "    print(item, \"\\t\", precio)\n",
    "    coste += precio\n",
    "print(\" Coste total\",coste)"
   ]
  },
  {
   "cell_type": "markdown",
   "metadata": {},
   "source": [
    "Ejercicio 8\n",
    "\n",
    "Escribir un programa que cree un diccionario de traducción español-inglés. El usuario introducirá las palabras en español e inglés separadas por dos puntos, y cada par <palabra>:<traducción> separados por comas. El programa debe crear un diccionario con las palabras y sus traducciones. Después pedirá una frase en español y utilizará el diccionario para traducirla palabra a palabra. Si una palabra no está en el diccionario debe dejarla sin traducir."
   ]
  },
  {
   "cell_type": "code",
   "execution_count": null,
   "metadata": {},
   "outputs": [],
   "source": [
    "diccionario = {}\n",
    "palabras = input(\"Introduce la lista de palabras y traducciones en formato palabra : traduccion separadas por comas: \")\n",
    "for i in palabras.split(','):\n",
    "    clave,valor = i.split(':')\n",
    "    diccionario [clave] = valor\n",
    "frase = input(\" introduce una frase en español: \")\n",
    "for i in frase.split():\n",
    "    if i in diccionario:\n",
    "        print(diccionario[i], end=' ')\n",
    "    else:\n",
    "        print(i, end=' ')"
   ]
  },
  {
   "cell_type": "markdown",
   "metadata": {},
   "source": [
    "Ejercicio 9\n",
    "\n",
    "Escribir un programa que gestione las facturas pendientes de cobro de una empresa. Las facturas se almacenarán en un diccionario donde la clave de cada factura será el número de factura y el valor el coste de la factura. El programa debe preguntar al usuario si quiere añadir una nueva factura, pagar una existente o terminar. Si desea añadir una nueva factura se preguntará por el número de factura y su coste y se añadirá al diccionario. Si se desea pagar una factura se preguntará por el número de factura y se eliminará del diccionario. Después de cada operación el programa debe mostrar por pantalla la cantidad cobrada hasta el momento y la cantidad pendiente de cobro."
   ]
  },
  {
   "cell_type": "code",
   "execution_count": null,
   "metadata": {},
   "outputs": [],
   "source": [
    "# Gestion de facturas\n",
    "\n",
    "facturas = {}\n",
    "cobrado = 0\n",
    "pendiente = 0\n",
    "more = ''\n",
    "while more != 'T':\n",
    "    if more == 'A':\n",
    "        clave = input(\" Introduce el numero de la factura: \")\n",
    "        coste = float(input(\"Introduce el coste de la factura: \"))\n",
    "        facturas [clave] = coste\n",
    "        pendiente -= coste\n",
    "    if more == 'P':\n",
    "        clave = input(\"Introduce el numero de la factura a pagar: \")\n",
    "        coste = facturas.pop(clave, 0)\n",
    "        cobrado += coste\n",
    "        pendiente -= coste\n",
    "    print(\"Recaudado:\", cobrado)\n",
    "    print(\"pendiente de cobrar: \", pendiente)\n",
    "    more = input(\"¿Quieres añadir una nueva factura (A), pagarla (P)o Terminar (T)? \").upper()\n",
    "        "
   ]
  },
  {
   "cell_type": "markdown",
   "metadata": {},
   "source": [
    "Ejercicio 10\n",
    "\n",
    "Escribir un programa que permita gestionar la base de datos de clientes de una empresa. Los clientes se guardarán en un diccionario en el que la clave de cada cliente será su NIF, y el valor será otro diccionario con los datos del cliente (nombre, dirección, teléfono, correo, preferente), donde preferente tendrá el valor True si se trata de un cliente preferente. El programa debe preguntar al usuario por una opción del siguiente menú: (1) Añadir cliente, (2) Eliminar cliente, (3) Mostrar cliente, (4) Listar todos los clientes, (5) Listar clientes preferentes, (6) Terminar. En función de la opción elegida el programa tendrá que hacer lo siguiente:\n",
    "\n",
    "1.Preguntar los datos del cliente, crear un diccionario con los datos y añadirlo a la base de datos.\n",
    "2.Preguntar por el NIF del cliente y eliminar sus datos de la base de datos.\n",
    "3.Preguntar por el NIF del cliente y mostrar sus datos.\n",
    "4.Mostrar lista de todos los clientes de la base datos con su NIF y nombre.\n",
    "5.Mostrar la lista de clientes preferentes de la base de datos con su NIF y nombre.\n",
    "6.Terminar el programa."
   ]
  },
  {
   "cell_type": "code",
   "execution_count": null,
   "metadata": {},
   "outputs": [],
   "source": [
    "#Base de datos de Clientes\n",
    " \n",
    "clientes = {}\n",
    "opcion = ''\n",
    "while opcion != '6':\n",
    "    if opcion == '1':\n",
    "        nif = input(\"Introduce el nif del cliente: \")\n",
    "        nombre = input(\"Introduce el nombre del cliente\")\n",
    "        direccion = input(\" Introduce la direccion del cliente: \")\n",
    "        telefono = input(\"Introduce el telefono del cliente: \")\n",
    "        email = input(\"Introduce el email del cliente: \")\n",
    "        vip = input(\" ¿Es un cliente preferente (S/N)?\").upper()\n",
    "        cliente = {'nombre':nombre, 'direccion':direccion, 'telefono':telefono, 'email':email, 'preferente':vip=='S'.upper()}\n",
    "        clientes[nif] = cliente\n",
    "    if opcion == '2':\n",
    "        nif = input(\"Introduce el nif del cliente: \")\n",
    "        if nif in clientes:\n",
    "            del clientes[nif]\n",
    "        else:\n",
    "            print(\" No existe el cliente con el nif \", nif)\n",
    "    if opcion =='3':\n",
    "        nif = input(\"Introduce el nif del cliente: \")\n",
    "        if nif in clientes:\n",
    "            print(\"NIF:\", nif)\n",
    "            for clave,valor in clientes[nif].items():\n",
    "                print(clave.title() + ':', valor)\n",
    "        else:\n",
    "            print(\" No existe el cliente con el nif \", nif)\n",
    "    if opcion == '4':\n",
    "        print(\"Lista de Clientes\")\n",
    "        for clave,valor in clientes[nif].items():\n",
    "            print(clave, valor[\"nombre\"])\n",
    "    if opcion == '5':\n",
    "        print(\"Lista de Clientes preferentes\")\n",
    "        for clave, valor in clientes.items():\n",
    "            if valor[\"preferente\"]:\n",
    "                print(clave, valor [\"nombre\"])\n",
    "    opcion = input(\" Menu de opciones\\n(1) Añadir cliente\\n(2) Eliminar Cliente\\n(3) Mostrar Cliente\\n(4) Lista de Clientes\\n(5) Clientes vips\\n(6) Terminar\\nElige una opcion :\")\n",
    "     \n",
    "        \n",
    "                "
   ]
  },
  {
   "cell_type": "markdown",
   "metadata": {},
   "source": [
    "Ejercicio\n",
    "\n",
    "El directorio de los clientes de una empresa está organizado en una cadena de texto como la de más abajo, donde cada línea contiene la información del nombre, email, teléfono, nif, y el descuento que se le aplica. Las líneas se separan con el carácter de cambio de línea \\n y la primera línea contiene los nombres de los campos con la información contenida en el directorio\n",
    "\n",
    "\"nif;nombre;email;teléfono;descuento\\n01234567L;Luis González;luisgonzalez@mail.com;656343576;12.5\\n71476342J;Macarena Ramírez;macarena@mail.com;692839321;8\\n63823376M;Juan José Martínez;juanjo@mail.com;664888233;5.2\\n98376547F;Carmen Sánchez;carmen@mail.com;667677855;15.7\"\n",
    "\n",
    "Escribir un programa que genere un diccionario con la información del directorio, donde cada elemento corresponda a un cliente y tenga por clave su nif y por valor otro diccionario con el resto de la información del cliente. Los diccionarios con la información de cada cliente tendrán como claves los nombres de los campos y como valores la información de cada cliente correspondientes a los campos. Es decir, un diccionario como el siguiente\n",
    "\n",
    "{'01234567L': {'nombre': 'Luis González', 'email': 'luisgonzalez@mail.com', 'teléfono': '656343576', 'descuento': 12.5}, '71476342J': {'nombre': 'Macarena Ramírez', 'email': 'macarena@mail.com', 'teléfono': '692839321', 'descuento': 8.0}, '63823376M': {'nombre': 'Juan José Martínez', 'email': 'juanjo@mail.com', 'teléfono': '664888233', 'descuento': 5.2}, '98376547F': {'nombre': 'Carmen Sánchez', 'email': 'carmen@mail.com', 'teléfono': '667677855', 'descuento': 15.7}}\n",
    "\n",
    "\n"
   ]
  },
  {
   "cell_type": "code",
   "execution_count": 1,
   "metadata": {},
   "outputs": [
    {
     "name": "stdout",
     "output_type": "stream",
     "text": [
      "{'01234567L': {'nombre': 'Luis González', 'email': 'luisgonzalez@mail.com', 'teléfono': '656343576', 'descuento': 12.5}, '71476342J': {'nombre': 'Macarena Ramírez', 'email': 'macarena@mail.com', 'teléfono': '692839321', 'descuento': 8.0}, '63823376M': {'nombre': 'Juan José Martínez', 'email': 'juanjo@mail.com', 'teléfono': '664888233', 'descuento': 5.2}, '98376547F': {'nombre': 'Carmen Sánchez', 'email': 'carmen@mail.com', 'teléfono': '667677855', 'descuento': 15.7}}\n"
     ]
    }
   ],
   "source": [
    "#Cadena con los datos del cliente de la empresa\n",
    "datos_clientes = \"nif;nombre;email;teléfono;descuento\\n01234567L;Luis González;luisgonzalez@mail.com;656343576;12.5\\n71476342J;Macarena Ramírez;macarena@mail.com;692839321;8\\n63823376M;Juan José Martínez;juanjo@mail.com;664888233;5.2\\n98376547F;Carmen Sánchez;carmen@mail.com;667677855;15.7\" \n",
    "lista_clientes = datos_clientes.split('\\n')         # Dividimos la cadena por el caracter de cambio de linea \\n y creamos una lista con las subcadenas\n",
    "directorio = {}         # Iniciamos el diccionario qu eva a contener el directorio de clientes\n",
    "\"\"\" Dividimos la cadena del primer elemento de la lista del cliente (que contiene los nombres de los campos)\n",
    "por el caracter ; y creamos la lista con los campos\"\"\"\n",
    "lista_campos = lista_clientes[0].split(';')\n",
    "\"\"\" Bucle itrerativo para recorrer los elementos de la lista lista_clientes.\n",
    "la variable cliente recorre desde el segundo elemento hasta el ultimo elemento de la lista \n",
    "(el primer elemento contiene los nombres de campo asi que no corresponde a un cliente)\"\"\"\n",
    "for i in lista_clientes[1:]:\n",
    "    cliente = {}          # Inicializamos el diccionario que va a contener los datos del cliente actual a vacio.\n",
    "    \n",
    "#Dividimos la cadena i por el caracter ; y creamos una lista con las subcadenas \n",
    "#con la informacion del cliente \"\"\"\n",
    "    lista_info = i.split(';')\n",
    "# Bucle iterativo para recorer los campos y añadir los pares al diccionario del cliente.\n",
    "# j toma valores de 1 al numero de campos menos 1. El primer elemento (posicion 0)corresponde al \n",
    "# nif y no se añade al diccionario porque se utilizara despues como clave en el diccionario principal\"\"\"\n",
    "    for j in range(1,len(lista_campos)):\n",
    "        if lista_campos[j]== \"descuento\":   #Condicional. Si el campo actual es descuento convertimos su valor en real \n",
    "           lista_info[j] = float(lista_info[j])\n",
    "        cliente[lista_campos[j]] = lista_info[j]  \n",
    "# Añadirmos un par al diccionario del directorio con la clave el nif del cliente y valor\n",
    "# el diccionario que acabamos de crear con el resto de sus datos.\n",
    "    directorio[lista_info[0]] = cliente\n",
    "print(directorio) "
   ]
  }
 ],
 "metadata": {
  "kernelspec": {
   "display_name": "Python 3",
   "language": "python",
   "name": "python3"
  },
  "language_info": {
   "codemirror_mode": {
    "name": "ipython",
    "version": 3
   },
   "file_extension": ".py",
   "mimetype": "text/x-python",
   "name": "python",
   "nbconvert_exporter": "python",
   "pygments_lexer": "ipython3",
   "version": "3.12.1"
  }
 },
 "nbformat": 4,
 "nbformat_minor": 2
}
