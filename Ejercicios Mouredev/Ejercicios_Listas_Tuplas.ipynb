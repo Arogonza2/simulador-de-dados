{
 "cells": [
  {
   "cell_type": "markdown",
   "metadata": {},
   "source": [
    "Ejercicio 1\n",
    "\n",
    "Escribir un programa que almacene las asignaturas de un curso (por ejemplo Matemáticas, Física, Química, Historia y Lengua) en una lista y la muestre por pantalla."
   ]
  },
  {
   "cell_type": "code",
   "execution_count": null,
   "metadata": {},
   "outputs": [],
   "source": [
    "asignaturas =(\"Matematicas\", \"Lenguaje\", \"Historia\", \"Quimica\")\n",
    "\n",
    "print(asignaturas)\n"
   ]
  },
  {
   "cell_type": "markdown",
   "metadata": {},
   "source": [
    "Ejercicio 2\n",
    "\n",
    "Escribir un programa que almacene las asignaturas de un curso (por ejemplo Matemáticas, Física, Química, Historia y Lengua) en una lista y la muestre por pantalla el mensaje Yo estudio <asignatura>, donde <asignatura> es cada una de las asignaturas de la lista."
   ]
  },
  {
   "cell_type": "code",
   "execution_count": null,
   "metadata": {},
   "outputs": [],
   "source": [
    "asignaturas =(\"Matematicas\", \"Lenguaje\", \"Historia\", \"Quimica\")\n",
    "for asignaturas in asignaturas:\n",
    "    print(\" Yo estudio \" + asignaturas)\n"
   ]
  },
  {
   "cell_type": "markdown",
   "metadata": {},
   "source": [
    "Ejercicio 3\n",
    "\n",
    "Escribir un programa que almacene las asignaturas de un curso (por ejemplo Matemáticas, Física, Química, Historia y Lengua) en una lista, pregunte al usuario la nota que ha sacado en cada asignatura, y después las muestre por pantalla con el mensaje En <asignatura> has sacado <nota> donde <asignatura> es cada una des las asignaturas de la lista y <nota> cada una de las correspondientes notas introducidas por el usuario."
   ]
  },
  {
   "cell_type": "code",
   "execution_count": null,
   "metadata": {},
   "outputs": [],
   "source": [
    "\n",
    "asignaturas = [\"Matemáticas\", \"Física\" , \"Química\" , \"Historia\" , \"Lengua\"]\n",
    "notas = []\n",
    "for asignatura in asignaturas:\n",
    "    nota = input(\" Que nota has sacado en \" + asignatura + \"?\")\n",
    "    notas.append(nota)\n",
    "for i in range(len(asignaturas)):\n",
    "    \n",
    "    print(\"En \"+ asignaturas[i] + \" has sacado \" + notas[i])"
   ]
  },
  {
   "cell_type": "markdown",
   "metadata": {},
   "source": [
    "Ejercicio 4\n",
    "\n",
    "Escribir un programa que pregunte al usuario los números ganadores de la lotería primitiva, los almacene en una lista y los muestre por pantalla ordenados de menor a mayor."
   ]
  },
  {
   "cell_type": "code",
   "execution_count": null,
   "metadata": {},
   "outputs": [],
   "source": [
    "ganadores = []\n",
    "for i in range(6):\n",
    "    ganadores.append(int(input(\" Introduce un numero ganador:\")))\n",
    "ganadores.sort()\n",
    "print(\"Los numeros ganadores son \" + str(ganadores))\n",
    "\n",
    "        "
   ]
  },
  {
   "cell_type": "markdown",
   "metadata": {},
   "source": [
    "Ejercicio 5\n",
    "\n",
    "Escribir un programa que almacene en una lista los números del 1 al 10 y los muestre por pantalla en orden inverso separados por comas."
   ]
  },
  {
   "cell_type": "code",
   "execution_count": null,
   "metadata": {},
   "outputs": [],
   "source": [
    "# Solucion 1\n",
    "\n",
    "numeros = [1 ,2 ,3 ,4 ,5 ,6 ,7 ,8 ,9 ,10]\n",
    "for i in range(1, 11):\n",
    "    print(numeros[-i], end= \", \")\n"
   ]
  },
  {
   "cell_type": "code",
   "execution_count": null,
   "metadata": {},
   "outputs": [],
   "source": [
    "# Solucion 2\n",
    "\n",
    "numbers = [1, 2, 3, 4, 5, 6, 7, 8, 9, 10]\n",
    "numbers.reverse()\n",
    "for number in numbers:\n",
    "    print(number, end=\", \")"
   ]
  },
  {
   "cell_type": "markdown",
   "metadata": {},
   "source": [
    "Ejercicio 6\n",
    "\n",
    "Escribir un programa que almacene las asignaturas de un curso (por ejemplo Matemáticas, Física, Química, Historia y Lengua) en una lista, pregunte al usuario la nota que ha sacado en cada asignatura y elimine de la lista las asignaturas aprobadas. Al final el programa debe mostrar por pantalla las asignaturas que el usuario tiene que repetir."
   ]
  },
  {
   "cell_type": "code",
   "execution_count": null,
   "metadata": {},
   "outputs": [],
   "source": [
    "\n",
    "subjects = [\"Matemáticas\", \"Física\" , \"Química\" , \"Historia\" , \"Lengua\"]\n",
    "passed = []\n",
    "for subject in subjects:\n",
    "    score = float(input(\" Que nota has sacado en \" + subject + \"?\"))\n",
    "    if score >= 5:\n",
    "        passed.append(subject)\n",
    "for subject in passed:\n",
    "    subjects.remove(subject)\n",
    "print(\" Tienes que repetrir \" + str(subjects))"
   ]
  },
  {
   "cell_type": "markdown",
   "metadata": {},
   "source": [
    "Ejercicio 7\n",
    "\n",
    "Escribir un programa que almacene el abecedario en una lista, elimine de la lista las letras que ocupen posiciones múltiplos de 3, y muestre por pantalla la lista resultante."
   ]
  },
  {
   "cell_type": "code",
   "execution_count": null,
   "metadata": {},
   "outputs": [],
   "source": [
    "alphabet = ['a', 'b', 'c', 'd', 'e', 'f', 'g', 'h', 'i', 'j', 'k', 'l', 'm', 'n', 'ñ', 'o', 'p', 'q', 'r', 's', 't', 'u', 'v', 'w', 'x', 'y', 'z']\n",
    "for i in range(len(alphabet), 1, -1):\n",
    "    if i %3 == 0:\n",
    "        alphabet.pop(i-1)\n",
    "print(alphabet)\n",
    " \n",
    "    "
   ]
  },
  {
   "cell_type": "markdown",
   "metadata": {},
   "source": [
    "Ejercicio 8\n",
    "\n",
    "Escribir un programa que pida al usuario una palabra y muestre por pantalla si es un palíndromo."
   ]
  },
  {
   "cell_type": "code",
   "execution_count": null,
   "metadata": {},
   "outputs": [],
   "source": [
    "word = str(input(\" Escribe una palabra : \"))\n",
    "reversed_word = word\n",
    "word = list(word)\n",
    "reversed_word = list(reversed_word)\n",
    "reversed_word.reverse()\n",
    "if word == reversed_word:\n",
    "    print(\"Es un palindromo\")\n",
    "else:\n",
    "    print(\" No es un palindromo\")\n",
    "\n"
   ]
  },
  {
   "cell_type": "markdown",
   "metadata": {},
   "source": [
    "Ejercicio 9\n",
    "\n",
    "Escribir un programa que pida al usuario una palabra y muestre por pantalla el número de veces que contiene cada vocal."
   ]
  },
  {
   "cell_type": "code",
   "execution_count": null,
   "metadata": {},
   "outputs": [],
   "source": [
    "word = input(\"Escriba una palabra o frase :\")\n",
    "print(word)\n",
    "vocals = (\"a\",\"e\",\"i\",\"o\",\"u\")\n",
    "for vocal in vocals:\n",
    "    times = 0\n",
    "    for letter in word:\n",
    "        if letter == vocal:\n",
    "            times += 1\n",
    "    print(\" la vocal \" + vocal + \" aparece \" + str(times)+ \" veces\")"
   ]
  },
  {
   "cell_type": "markdown",
   "metadata": {},
   "source": [
    "Ejercicio 10\n",
    "\n",
    "Escribir un programa que almacene en una lista los siguientes precios, 50, 75, 46, 22, 80, 65, 8, y muestre por pantalla el menor y el mayor de los precios."
   ]
  },
  {
   "cell_type": "code",
   "execution_count": null,
   "metadata": {},
   "outputs": [],
   "source": [
    "precios = (50, 75, 46, 22, 80, 65, 8)\n",
    "min = max = precios[0]\n",
    "for precio in precios:\n",
    "    if precio < min:\n",
    "        min = precio\n",
    "    elif precio > max:\n",
    "        max = precio\n",
    "print(\"El precio minimo de la lista es \" + str(min))\n",
    "print(\"El maximo de la lista es \" + str(max))\n",
    "\n"
   ]
  },
  {
   "cell_type": "markdown",
   "metadata": {},
   "source": [
    "Ejercicio 11\n",
    "\n",
    "Escribir un programa que almacene los vectores (1,2,3) y (-1,0,2) en dos listas y muestre por pantalla su producto escalar."
   ]
  },
  {
   "cell_type": "code",
   "execution_count": null,
   "metadata": {},
   "outputs": [],
   "source": [
    "a= (1, 2, 3)\n",
    "b = (-1, 0, 2)\n",
    "producto = 0 \n",
    "for i in range(len(a)):\n",
    "    producto += a[i]* b[i]\n",
    "print(\" El producto de los vectores \" + str(a) + \" y \" + str(b) +\" es \" + str(producto))\n"
   ]
  },
  {
   "cell_type": "markdown",
   "metadata": {},
   "source": [
    "Ejercicio 13\n",
    "\n",
    "Escribir un programa que pregunte por una muestra de números, separados por comas, los guarde en una lista y muestre por pantalla su media y desviación típica."
   ]
  },
  {
   "cell_type": "code",
   "execution_count": null,
   "metadata": {},
   "outputs": [],
   "source": [
    "sample = input(\"Introduce una muestra de números separados por comas: \")\n",
    "sample = sample.split(',')\n",
    "n = len(sample)\n",
    "for i in range(n):\n",
    "    sample[i] = int(sample[i])\n",
    "sample = tuple(sample)\n",
    "sum = 0\n",
    "sumsq = 0\n",
    "for i in sample:\n",
    "    sum += i\n",
    "    sumsq += i**2\n",
    "mean = sum/n\n",
    "stdev = (sumsq/n-mean**2)**(1/2)\n",
    "print('La media es', mean, ', y la desviación típica es', stdev)"
   ]
  }
 ],
 "metadata": {
  "kernelspec": {
   "display_name": "Python 3",
   "language": "python",
   "name": "python3"
  },
  "language_info": {
   "codemirror_mode": {
    "name": "ipython",
    "version": 3
   },
   "file_extension": ".py",
   "mimetype": "text/x-python",
   "name": "python",
   "nbconvert_exporter": "python",
   "pygments_lexer": "ipython3",
   "version": "3.12.1"
  }
 },
 "nbformat": 4,
 "nbformat_minor": 2
}
