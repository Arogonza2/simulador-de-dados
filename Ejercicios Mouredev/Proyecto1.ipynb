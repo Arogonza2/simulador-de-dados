{
 "cells": [
  {
   "cell_type": "markdown",
   "metadata": {},
   "source": [
    "- Proyecto 1\n",
    "\n",
    "-Crea una carpeta en una ruta por defecto y que se pueda indicar el nombre y la ruta a parte de la ruta por defecto \n",
    "\n",
    "- 1 Indica el nombre de la carpeta. \n",
    "- 2 Indica la ruta si no se quiere dejar la que esta por defecto. \n",
    "- 3 la carpeta tiene qu etener tres sub-carpetas (Importadas/Seleccionadas/JPG).\n",
    "- 4 importar las fotografias a la carpeta Importadas.\n",
    "- 5 no se puede crear duplicados.\n"
   ]
  },
  {
   "cell_type": "code",
   "execution_count": 89,
   "metadata": {},
   "outputs": [
    {
     "data": {
      "text/plain": [
       "'CArpeta'"
      ]
     },
     "execution_count": 89,
     "metadata": {},
     "output_type": "execute_result"
    }
   ],
   "source": [
    "import os\n",
    "\n",
    "def my_dir()-> str:\n",
    "    return (input(f\"Escribe el nombre de la carpeta,{my_dir}\"))\n",
    "  \n",
    "\n",
    "my_dir()\n",
    "#my_carpeta =os.path.join(\"./\", my_dir) \n",
    "#os.mkdir(my_dir)\n",
    "\n",
    "                     \n"
   ]
  },
  {
   "cell_type": "code",
   "execution_count": 94,
   "metadata": {},
   "outputs": [
    {
     "name": "stdout",
     "output_type": "stream",
     "text": [
      "La carpeta no existe se creara en la ruta por defecto\n"
     ]
    }
   ],
   "source": [
    "#Comprobar si la carpeta existe \n",
    "\n",
    "if os.path.exists(\"carpeta1\") == True:\n",
    "    print( \"La carpeta ya existe, indica otro nombre \")\n",
    "    \n",
    "else:\n",
    "    os.makedirs(\"carpeta1/Carpeta2\")\n",
    "    print(\"La carpeta no existe se creara en la ruta por defecto\")"
   ]
  }
 ],
 "metadata": {
  "kernelspec": {
   "display_name": "Python 3",
   "language": "python",
   "name": "python3"
  },
  "language_info": {
   "codemirror_mode": {
    "name": "ipython",
    "version": 3
   },
   "file_extension": ".py",
   "mimetype": "text/x-python",
   "name": "python",
   "nbconvert_exporter": "python",
   "pygments_lexer": "ipython3",
   "version": "3.12.1"
  }
 },
 "nbformat": 4,
 "nbformat_minor": 2
}
