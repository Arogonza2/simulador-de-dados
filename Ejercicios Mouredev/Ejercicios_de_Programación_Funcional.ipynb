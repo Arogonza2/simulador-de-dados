{
 "cells": [
  {
   "cell_type": "markdown",
   "metadata": {},
   "source": [
    "Ejercicios de Programación Funcional\n",
    "\n"
   ]
  },
  {
   "cell_type": "markdown",
   "metadata": {},
   "source": [
    "Ejercicio 1\n",
    "\n",
    "Escribir una función que aplique un descuento a un precio y otra que aplique el IVA a un precio. Escribir una tercera función que reciba un diccionario con los precios y porcentajes de una cesta de la compra, y una de las funciones anteriores, y utilice la función pasada para aplicar los descuentos o el IVA a los productos de la cesta y devolver el precio final de la cesta."
   ]
  },
  {
   "cell_type": "code",
   "execution_count": 2,
   "metadata": {},
   "outputs": [
    {
     "name": "stdout",
     "output_type": "stream",
     "text": [
      " El precio de la compra tras aplicar los descuentos es:  1349.0\n",
      " El precio de la compra tras aplicar el IVA es:  1349.0\n"
     ]
    }
   ],
   "source": [
    "def apply_discount(price, discount):\n",
    "    \"\"\"\n",
    "    Funcion que aplica un descuento a una cantidad. \n",
    "    Parametros:\n",
    "        price: Es un valor real con el precio al que aplicar el descuento. \n",
    "        discount: Es el porcentaje a descontar.\n",
    "    Devuelve : \n",
    "        El precio final tras aplicar el descuento.   \n",
    "    \"\"\"\n",
    "    \n",
    "    return price - price * discount / 100\n",
    "\n",
    "def apply_iva(price, percentage):\n",
    "    \"\"\" Funcion que aplica un IVA a un acantidad. \n",
    "    Parametros:\n",
    "        price: Es un valor real con el precio al que aplicar el IVA\n",
    "        percentage: Es el porcentage del IVA a aplicar. \n",
    "    Devuelve:\n",
    "        El precio final tras aplicarle el IVA. \"\"\"\n",
    "    \n",
    "    return price + price * percentage / 100\n",
    "\n",
    "def price_basket(basket, function):\n",
    "    \"\"\"\n",
    "    Funcion que calcula el precio de una cesta de la compra una vez aplicada un afucion a los precios iniciales. \n",
    "    Parametros:\n",
    "        basket: Es un dicionario formado por pares precio : descuento. \n",
    "        funcion : Es una funcion que toma dos valores reales y devuelve otro. Normalmente para aplicar descuentos o IVA\n",
    "    Devuelve:\n",
    "\n",
    "    \"\"\"\n",
    "    total = 0\n",
    "    for price, discount in basket.items():\n",
    "        total += function (price, discount)\n",
    "    return total\n",
    "\n",
    "print(\" El precio de la compra tras aplicar los descuentos es: \", price_basket({1000:20, 500:10, 100:1}, apply_discount))\n",
    "print(\" El precio de la compra tras aplicar el IVA es: \", price_basket({1000:20, 500:10, 100:1}, apply_discount))"
   ]
  },
  {
   "cell_type": "markdown",
   "metadata": {},
   "source": []
  }
 ],
 "metadata": {
  "kernelspec": {
   "display_name": "Python 3",
   "language": "python",
   "name": "python3"
  },
  "language_info": {
   "codemirror_mode": {
    "name": "ipython",
    "version": 3
   },
   "file_extension": ".py",
   "mimetype": "text/x-python",
   "name": "python",
   "nbconvert_exporter": "python",
   "pygments_lexer": "ipython3",
   "version": "3.12.1"
  }
 },
 "nbformat": 4,
 "nbformat_minor": 2
}
