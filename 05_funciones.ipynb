{
 "cells": [
  {
   "cell_type": "code",
   "execution_count": null,
   "metadata": {},
   "outputs": [],
   "source": [
    "def hola_mundo ():\n",
    "    print (\"Hola mundo!\")\n",
    "\n",
    "hola_mundo()\n",
    "    "
   ]
  },
  {
   "cell_type": "code",
   "execution_count": null,
   "metadata": {},
   "outputs": [],
   "source": [
    "def suma_dos_numeros():\n",
    "    numero_1 = int(input(\"Dame el primer numero:\"))\n",
    "    numero_2 = int(input(\"Dame el segundo numero:\"))\n",
    "    return numero_1 + numero_2\n",
    "\n",
    "mi_suma = suma_dos_numeros()\n",
    "print(mi_suma)\n"
   ]
  },
  {
   "cell_type": "code",
   "execution_count": null,
   "metadata": {},
   "outputs": [],
   "source": [
    "def resta_dos_numeros():\n",
    "    numero_1 = int(input(\"Dame el primer numero:\"))\n",
    "    numero_2 = int(input(\"Dame el segundo numero:\"))\n",
    "    return numero_1 - numero_2\n",
    "mi_resta = resta_dos_numeros()\n",
    "print(mi_resta)\n"
   ]
  },
  {
   "cell_type": "code",
   "execution_count": null,
   "metadata": {},
   "outputs": [],
   "source": [
    "#def mi_funcion(argumento_1, argumento_2, ...):\n",
    "\n",
    "def multiplica_dos_numero(numero_1, numero_2):\n",
    "    return numero_1 * numero_2\n",
    "\n",
    "resultado = multiplica_dos_numero (5,6)\n",
    "print(resultado)\n"
   ]
  },
  {
   "cell_type": "code",
   "execution_count": null,
   "metadata": {},
   "outputs": [],
   "source": [
    "numero_1 = int(input(\" Dame el primer numero:\"))\n",
    "numero_2 = int(input(\"dame el segundo numero:\"))\n",
    "\n",
    "def resta_numeros(numero_1, numero_2):\n",
    "    return numero_1 - numero_2 \n",
    "\n",
    "resultado = resta_numeros(numero_1,numero_2)\n",
    "print(resultado)\n"
   ]
  },
  {
   "cell_type": "code",
   "execution_count": null,
   "metadata": {},
   "outputs": [],
   "source": [
    "#invertir solo un lista\n",
    "\n",
    "def invertir (lista):\n",
    "    return lista[::-1] if type(lista) == list else \"Solo puede invertir lista\"\n",
    "\n",
    "mi_lista = (1, 2, 3, 4, 5)\n",
    "print(invertir(lista=mi_lista))"
   ]
  },
  {
   "cell_type": "code",
   "execution_count": null,
   "metadata": {},
   "outputs": [],
   "source": [
    "#invertir solo un tupla\n",
    "\n",
    "def invertir(tupla):\n",
    "    return tupla[::-1] if type(tupla) == tuple else \"Solo puede invertir tuplas\"\n",
    "\n",
    "mi_tupla = [1,2,3,4,5]\n",
    "print(invertir(tupla=mi_tupla))\n"
   ]
  }
 ],
 "metadata": {
  "kernelspec": {
   "display_name": "Python 3",
   "language": "python",
   "name": "python3"
  },
  "language_info": {
   "codemirror_mode": {
    "name": "ipython",
    "version": 3
   },
   "file_extension": ".py",
   "mimetype": "text/x-python",
   "name": "python",
   "nbconvert_exporter": "python",
   "pygments_lexer": "ipython3",
   "version": "3.12.1"
  }
 },
 "nbformat": 4,
 "nbformat_minor": 2
}
