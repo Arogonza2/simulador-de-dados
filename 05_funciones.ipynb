{
 "cells": [
  {
   "cell_type": "code",
   "execution_count": null,
   "metadata": {},
   "outputs": [],
   "source": [
    "def hola_mundo ():\n",
    "    print (\"Hola mundo!\")\n",
    "\n",
    "hola_mundo()\n",
    "    "
   ]
  },
  {
   "cell_type": "code",
   "execution_count": null,
   "metadata": {},
   "outputs": [],
   "source": [
    "def suma_dos_numeros():\n",
    "    numero_1 = int(input(\"Dame el primer numero:\"))\n",
    "    numero_2 = int(input(\"Dame el segundo numero:\"))\n",
    "    return numero_1 + numero_2\n",
    "\n",
    "mi_suma = suma_dos_numeros()\n",
    "print(mi_suma)\n"
   ]
  },
  {
   "cell_type": "code",
   "execution_count": null,
   "metadata": {},
   "outputs": [],
   "source": [
    "def resta_dos_numeros():\n",
    "    numero_1 = int(input(\"Dame el primer numero:\"))\n",
    "    numero_2 = int(input(\"Dame el segundo numero:\"))\n",
    "    return numero_1 - numero_2\n",
    "mi_resta = resta_dos_numeros()\n",
    "print(mi_resta)\n"
   ]
  },
  {
   "cell_type": "code",
   "execution_count": null,
   "metadata": {},
   "outputs": [],
   "source": [
    "#def mi_funcion(argumento_1, argumento_2, ...):\n",
    "\n",
    "def multiplica_dos_numero(numero_1, numero_2):\n",
    "    return numero_1 * numero_2\n",
    "\n",
    "resultado = multiplica_dos_numero (5,6)\n",
    "print(resultado)\n"
   ]
  },
  {
   "cell_type": "code",
   "execution_count": null,
   "metadata": {},
   "outputs": [],
   "source": [
    "numero_1 = int(input(\" Dame el primer numero:\"))\n",
    "numero_2 = int(input(\"dame el segundo numero:\"))\n",
    "\n",
    "def resta_numeros(numero_1, numero_2):\n",
    "    return numero_1 - numero_2 \n",
    "\n",
    "resultado = resta_numeros(numero_1,numero_2)\n",
    "print(resultado)\n"
   ]
  },
  {
   "cell_type": "code",
   "execution_count": null,
   "metadata": {},
   "outputs": [],
   "source": [
    "#invertir solo  listas\n",
    "\n",
    "def invertir (lista):\n",
    "    return lista[::-1] if type(lista) == list else \"Solo puede invertir lista\"\n",
    "\n",
    "mi_lista = (1, 2, 3, 4, 5)\n",
    "print(invertir(lista=mi_lista))"
   ]
  },
  {
   "cell_type": "code",
   "execution_count": null,
   "metadata": {},
   "outputs": [],
   "source": [
    "#invertir solo tuplas\n",
    "\n",
    "def invertir(tupla):\n",
    "    return tupla[::-1] if type(tupla) == tuple else \"Solo puede invertir tuplas\"\n",
    "\n",
    "mi_tupla = [1,2,3,4,5]\n",
    "print(invertir(tupla=mi_tupla))\n"
   ]
  },
  {
   "cell_type": "code",
   "execution_count": null,
   "metadata": {},
   "outputs": [],
   "source": [
    "numero_1 =int(input(\"Dame el primer numero:\"))\n",
    "numero_2 = int(input(\"Dame el segundo numero:\"))\n",
    "\n",
    "def resta_dos_numeros(numero_1,numero_2):\n",
    "    return numero_1 - numero_2\n",
    "\n",
    "mi_resta = resta_dos_numeros(numero_1,numero_2)\n",
    "print(mi_resta)\n"
   ]
  },
  {
   "cell_type": "code",
   "execution_count": null,
   "metadata": {},
   "outputs": [],
   "source": [
    "#FUNCIONES DE ORDEN SUPERIOR\n",
    "\n",
    "#calculadora\n",
    "\n",
    "lista = [1, 2, 3, 4, 5]\n",
    "\n",
    "def suma(n1:int, n2: int,) -> int:\n",
    "    return n1 + n2 \n",
    "\n",
    "def resta(n1:int, n2: int,)-> int:\n",
    "    return n1 -n2\n",
    "\n",
    "def multiplicacion (n1:int, n2: int,)-> int:\n",
    "    return n1 * n2 \n",
    "\n",
    "def division (n1:int, n2: int,)-> int:\n",
    "    return n1 / n2\n",
    "\n",
    "def calculadora(operacion: callable, n1: int, n2: int,)->int:\n",
    "    resultado = operacion(n1,n2)\n",
    "    return resultado\n",
    "print(calculadora(division, 12, 4))"
   ]
  },
  {
   "cell_type": "markdown",
   "metadata": {},
   "source": [
    "\"\"\"Hace calculos numericos, definidos previamente por el desarollador \n",
    "\n",
    "Args: \n",
    "    operacion (fucion): determina lo que se va a hacer con los numeros\n",
    "    n1 (int o float ): Primer numero\n",
    "    n2 (int o float ): Segundo numero\n",
    "    \n",
    "Returns:\n",
    "    La operacion aplicada a los dos numeros\n",
    "\"\"\""
   ]
  },
  {
   "cell_type": "code",
   "execution_count": null,
   "metadata": {},
   "outputs": [],
   "source": [
    "var = lambda n1, n2 : n1 + n2 \n",
    "\n",
    "#equivale a \n",
    "\n",
    "def suma (n1 = int, n2 = int) -> int:\n",
    "    \n",
    "    return n1 +n2 "
   ]
  },
  {
   "cell_type": "code",
   "execution_count": null,
   "metadata": {},
   "outputs": [],
   "source": [
    "#Ordenar diccionario por la edad con una lambda\n",
    "\n",
    "estudiantes = [(\"Alicia\", 25), (\"Joaquin\", 20), (\"Carlos\", 23),(\"David\", 22)]\n",
    "ordenar_por_edad = lambda estudiante: estudiante[1]  #selecciona la posicion de la edad ([0] atributo nombre, [1] atributo edad ) \n",
    "estudiantes.sort(key=ordenar_por_edad)  #Se le da la funcion como argumento para ordenar\n",
    "print(estudiantes)\n"
   ]
  },
  {
   "cell_type": "code",
   "execution_count": null,
   "metadata": {},
   "outputs": [],
   "source": [
    "#Pedir numeros hasta que se meta un 0 y sumar todos esos numeros \n",
    "\n",
    "def pedir_numeros():\n",
    "    resultado = 0\n",
    "    while True:\n",
    "        numero = int(input(\"Dame un numero: \"))\n",
    "        if numero == 0:\n",
    "            break\n",
    "        resultado += numero\n",
    "    return resultado\n",
    "\n",
    "print(pedir_numeros())\n",
    "\n",
    "\n",
    "\n"
   ]
  },
  {
   "cell_type": "code",
   "execution_count": 1,
   "metadata": {},
   "outputs": [
    {
     "name": "stdout",
     "output_type": "stream",
     "text": [
      "Eres mayor de edad\n"
     ]
    }
   ],
   "source": [
    "#Validar la edad \n",
    "\n",
    "edad =int(input(\"Dime tu edad\"))\n",
    "\n",
    "if edad >= 18:\n",
    "    print(\"Eres mayor de edad\")\n",
    "elif 0 < edad < 18:\n",
    "    print(\"Eres menor de edad\")\n",
    "else:\n",
    "    print(\"no es una edad valida\")\n",
    "    \n",
    "\n",
    " "
   ]
  },
  {
   "cell_type": "code",
   "execution_count": 2,
   "metadata": {},
   "outputs": [
    {
     "name": "stdout",
     "output_type": "stream",
     "text": [
      "Hola, Python\n"
     ]
    }
   ],
   "source": [
    "print(\"Hola, Python\")"
   ]
  },
  {
   "cell_type": "code",
   "execution_count": null,
   "metadata": {},
   "outputs": [],
   "source": [
    "#Validad la edad (condicionales ternarios)\n",
    "\n",
    "edad = int(input(\"Dime tu edad \")) \n",
    "respuesta = \"Eres mayor de edad\" if edad >= 18 else \"Eres menor de edad\"\n",
    "print(respuesta)\n"
   ]
  },
  {
   "cell_type": "code",
   "execution_count": null,
   "metadata": {},
   "outputs": [],
   "source": [
    "#Metodo de strings\n",
    "\n",
    "nombre = \"alfonso rodriguez gonzalez\"\n",
    "test = nombre.capitalize()  #Transforma el texto minuscula con la primera letra mayuscula\n",
    "print(test)\n",
    "\n",
    "nombre = \"alfonso rodriguez gonzalez\"\n",
    "test = nombre.upper()  #Transforma el texto minuscula en mayuscula\n",
    "print(test)\n",
    "\n",
    "nombre = \"alfonso rodriguez gonzalez\"\n",
    "test = nombre.title()  #Transforma el texto a minuscula con la primera letra de cada palabra en mayuscula \n",
    "print(test)\n",
    "\n",
    "nombre = \"Alfonso roDriguez Gonzalez\"\n",
    "test = nombre.swapcase()           #Cambia mayuscula aminuscula y viceversa\n",
    "print(test)\n",
    "\n",
    "\"\"\"\n",
    "nombre = \"alfonso rodriguez gonzalez\"\n",
    "test = nombre.startswith()          #comprueba que el texto empieza con un string\n",
    "print(test)\n",
    "\n",
    "nombre = \"alfonso rodriguez gonzalez\"\n",
    "test = nombre.endswith()  #comprueba que el texto termina con un string\n",
    "print(test)\n",
    "\n",
    "\"\"\"\n",
    "nombre = \"alfonso rodriguez gonzalez\"\n",
    "test = nombre.replace(\"rodriguez\", \"lopez\")  #remplaza un string por otro string un numero de veces (por defecto, todas)\n",
    "print(test)\n",
    "\n",
    "nombre = \"alfonso rodriguez gonzalez\"\n",
    "test = nombre.count(\"g\")                  #cuenta el numero de veces que aparece un string\n",
    "print(test)\n",
    "\n",
    "nombre = \"alfonso rodriguez gonzalez\"\n",
    "test = nombre.find(\"o\")                   # Muestra la posiciona de un string\n",
    "print(test)\n",
    "\n",
    "nombre = \"alfonso rodriguez gonzalez\"\n",
    "test = nombre.isdigit()  # isnumeric(), isascii(), isdecimal()  Comprueba si un digito es un digito,decimal, ascii, alfanumerico, mayuscula, minuscula \n",
    "print(test)\n",
    "\n",
    "nombre = \"alfonso rodriguez gonzalez\"\n",
    "test = nombre.strip()               # rstrip, lstrip, Elimina caracteres de un string (y se puede ver donde se elimina, por defecto elimina espacios)  \n",
    "print(test)\n",
    "\n",
    "nombre = \"alfonso rodriguez gonzalez\" \n",
    "test = nombre.split()               #.rsplit(), .lsplit(), Divide el texto de acuerdo a uyn string (por defecto divide por espacios)\n",
    "print(test)\n",
    "\n",
    "\"\"\"\n",
    "nombre = \"alfonso rodriguez gonzalez\" \n",
    "test = nombre.join()              #Transforma un iterable en un string, con el propio string como punto de union               \n",
    "print(test)\n",
    "\n",
    "\"\"\"\n",
    "\n",
    "nombre = \"alfonso rodriguez gonzalez\" \n",
    "test = nombre.zfill(0)    #Rellena con ceros el texto\n",
    "print(test)"
   ]
  }
 ],
 "metadata": {
  "kernelspec": {
   "display_name": "Python 3",
   "language": "python",
   "name": "python3"
  },
  "language_info": {
   "codemirror_mode": {
    "name": "ipython",
    "version": 3
   },
   "file_extension": ".py",
   "mimetype": "text/x-python",
   "name": "python",
   "nbconvert_exporter": "python",
   "pygments_lexer": "ipython3",
   "version": "3.12.1"
  }
 },
 "nbformat": 4,
 "nbformat_minor": 2
}
