{
 "cells": [
  {
   "cell_type": "code",
   "execution_count": null,
   "metadata": {},
   "outputs": [],
   "source": [
    "#pedir por pantalla\n",
    "\n",
    "print(\" Tu nombre es :\",\n",
    "       \n",
    "    input(\"dime tu nombre:\")\n",
    ")\n"
   ]
  },
  {
   "cell_type": "code",
   "execution_count": null,
   "metadata": {},
   "outputs": [],
   "source": [
    "#variables\n",
    "\n",
    "variable = 10\n",
    "print(variable)"
   ]
  },
  {
   "cell_type": "code",
   "execution_count": null,
   "metadata": {},
   "outputs": [],
   "source": [
    "nombre = input(\"Dime tu  nombre: \")\n",
    "print(\"Tu nombre es:\",nombre)\n"
   ]
  },
  {
   "cell_type": "code",
   "execution_count": null,
   "metadata": {},
   "outputs": [],
   "source": [
    "numero = input(\"dime un numero: \")\n",
    "print(numero)\n"
   ]
  },
  {
   "cell_type": "code",
   "execution_count": 10,
   "metadata": {},
   "outputs": [
    {
     "name": "stdout",
     "output_type": "stream",
     "text": [
      "24 <class 'int'>\n",
      "165.55 <class 'float'>\n",
      "0b11000 <class 'str'>\n",
      "0x18 <class 'str'>\n"
     ]
    }
   ],
   "source": [
    "#tipos de numeros\n",
    "\n",
    "edad = 24 #int\n",
    "print(edad, type(edad))\n",
    "\n",
    "salario = 165.55 #float\n",
    "print(salario, type(salario))\n",
    "\n",
    "edad_en_binario = bin(edad) #binario\n",
    "print(edad_en_binario, type(edad_en_binario))\n",
    "\n",
    "edad_en_hexedecimal = hex(edad) #hexadecimal\n",
    "print(edad_en_hexedecimal, type(edad_en_hexedecimal))"
   ]
  },
  {
   "cell_type": "code",
   "execution_count": 11,
   "metadata": {},
   "outputs": [
    {
     "name": "stdout",
     "output_type": "stream",
     "text": [
      "2.5 / 6 / 40\n"
     ]
    }
   ],
   "source": [
    "#Operadores\n",
    "\n",
    "suma_numeros = 1 + 3    # (+) realiza sumas\n",
    "resta_numeros = 3 - 1       # (-) realiza restas\n",
    "producto_numero = 4 * 3         # (*)realiza multiplicaciones\n",
    "division_de_un_numero = 10 / 3      # (/) realiza divisiones\n",
    "division_entera_de_un_numero = 10 // 3      #(//) realiza divisiones enteras\n",
    "modulo_numero = 10 % 3      #(%) realiza modulo (solo muestra el resto)\n",
    "\n",
    "numero_1 = 10\n",
    "numero_2 = 4\n",
    "\n",
    "resultado = numero_1 / numero_2\n",
    "print(f\"{numero_1 / numero_2} / {numero_1 - numero_2} / {numero_1 * numero_2}\")\n",
    "\n"
   ]
  },
  {
   "cell_type": "code",
   "execution_count": 17,
   "metadata": {},
   "outputs": [
    {
     "name": "stdout",
     "output_type": "stream",
     "text": [
      "False\n",
      "False\n",
      "True\n"
     ]
    }
   ],
   "source": [
    "#Operadores logicos  \n",
    "\n",
    "numero_1 < numero_2     #True (menor que)\n",
    "numero_1 <= numero_2     #True (menor o igual que)\n",
    "numero_1 > numero_2     #False (mayor que)\n",
    "numero_1 >= numero_2     #False (mayor o igual que)\n",
    "numero_1 != numero_2     #True (distinto que)\n",
    "numero_1 == numero_2     #False (igual que)\n",
    "numero_1 is numero_2     #False (igual que)\n",
    "numero_1 is not numero_2     #True (no es igual que)\n",
    "\n",
    "\n",
    "numero_1 = 10\n",
    "numero_2 = 100\n",
    "\n",
    "print(f\"{numero_1 > numero_2}\\n{numero_1 == numero_2}\\n{numero_1 != numero_2}\")\n",
    "\n",
    "\n",
    "None                        # sin dato\n",
    "\n",
    "\n",
    " \n"
   ]
  },
  {
   "cell_type": "code",
   "execution_count": null,
   "metadata": {},
   "outputs": [],
   "source": [
    "#Strings (cadenas de texto)\n",
    "\n",
    "edad = input(\" Dime tu edad: \")\n",
    "print(edad, type (edad))         #muestra la variable y el tipo \n",
    "edad = int(edad)                    #cambia el tipo \n",
    "print(edad, type (edad))  "
   ]
  },
  {
   "cell_type": "code",
   "execution_count": null,
   "metadata": {},
   "outputs": [],
   "source": [
    "#Metodos de Strings\n",
    "\n",
    "nombre = \"Alfonso Rodriguez Gonzalez\"\n",
    "test = nombre.startswith(\"Al\") #busca y si lo encuentra devuelve un True\n",
    "print(test)\n",
    "\n",
    "nombre = \"Alfonso Rodriguez Gonzalez\"\n",
    "test = nombre.replace(\"Gonzalez\", \"Perez\") # remplaza Gonzalez por Perez\n",
    "print(test)\n",
    "\n",
    "nombre = \"Alfonso Rodriguez González\"\n",
    "test = nombre.lower()                   #cambia todas las mayusculas \n",
    "print(test)\n"
   ]
  },
  {
   "cell_type": "code",
   "execution_count": null,
   "metadata": {},
   "outputs": [],
   "source": [
    "#F-Strings\n",
    "\n",
    "saludo = f\"Hola mi nombre es {nombre.title()}\"\n",
    "print(saludo)\n",
    "\n",
    "#Caracrteres especiales \n",
    "\n",
    "# \\n  \n",
    "\n",
    "# \\t\n",
    "\n",
    "# \\\\\n",
    "    \n",
    "# Lista () \n",
    "# Tupla () \n",
    "# Dicionario {\"clave\" : valor, \"clave_2\": valor} las claves son unicas\n",
    "# Set {}\n",
    "\n",
    "    \n"
   ]
  },
  {
   "cell_type": "code",
   "execution_count": null,
   "metadata": {},
   "outputs": [],
   "source": [
    "# Hacer un buscador de texto\n",
    "\n",
    "texto = \"\"\"\n",
    "Buenos dias NOMBRE, estoy encantado de contactar con usted, NOMBRE\n",
    "Atentamente, AUTOR \n",
    "\n",
    "\"\"\"\n",
    "nombre = input(\"Dime el  nombre :\")\n",
    "autor  = input (\"Dime el autor\")\n",
    "contador = texto.replace(\"NOMBRE\",nombre).replace(\"AUTOR\", autor)\n",
    "print(contador)\n"
   ]
  }
 ],
 "metadata": {
  "kernelspec": {
   "display_name": "Python 3",
   "language": "python",
   "name": "python3"
  },
  "language_info": {
   "codemirror_mode": {
    "name": "ipython",
    "version": 3
   },
   "file_extension": ".py",
   "mimetype": "text/x-python",
   "name": "python",
   "nbconvert_exporter": "python",
   "pygments_lexer": "ipython3",
   "version": "3.12.1"
  }
 },
 "nbformat": 4,
 "nbformat_minor": 2
}
