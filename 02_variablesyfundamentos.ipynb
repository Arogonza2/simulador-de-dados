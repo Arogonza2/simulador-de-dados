{
 "cells": [
  {
   "cell_type": "code",
   "execution_count": 3,
   "metadata": {},
   "outputs": [
    {
     "name": "stdout",
     "output_type": "stream",
     "text": [
      " Tu nombre es : Alfonso\n"
     ]
    }
   ],
   "source": [
    "#pedir por pantalla\n",
    "\n",
    "print(\" Tu nombre es :\",\n",
    "       \n",
    "    input(\"dime tu nombre:\")\n",
    ")\n"
   ]
  },
  {
   "cell_type": "code",
   "execution_count": 4,
   "metadata": {},
   "outputs": [
    {
     "name": "stdout",
     "output_type": "stream",
     "text": [
      "10\n"
     ]
    }
   ],
   "source": [
    "#variables\n",
    "\n",
    "variable = 10\n",
    "print(variable)"
   ]
  },
  {
   "cell_type": "code",
   "execution_count": 7,
   "metadata": {},
   "outputs": [
    {
     "name": "stdout",
     "output_type": "stream",
     "text": [
      "tu nombre es: alfonso\n"
     ]
    }
   ],
   "source": [
    "nombre = input(\"Dime tu  nombre: \")\n",
    "print(\"Tu nombre es:\",nombre)\n"
   ]
  },
  {
   "cell_type": "code",
   "execution_count": 1,
   "metadata": {},
   "outputs": [
    {
     "name": "stdout",
     "output_type": "stream",
     "text": [
      "123\n"
     ]
    }
   ],
   "source": [
    "numero = input(\"dime un numero: \")\n",
    "print(numero)\n"
   ]
  },
  {
   "cell_type": "code",
   "execution_count": 8,
   "metadata": {},
   "outputs": [
    {
     "name": "stdout",
     "output_type": "stream",
     "text": [
      "24 <class 'int'>\n",
      "165.55 <class 'float'>\n",
      "0b11000 <class 'str'>\n",
      "0x18 <class 'str'>\n"
     ]
    }
   ],
   "source": [
    "#tipos de numeros\n",
    "\n",
    "edad = 24 #int\n",
    "print(edad, type(edad))\n",
    "\n",
    "salario = 165.55 #float\n",
    "print(salario, type(salario))\n",
    "\n",
    "edad_en_binario = bin(edad) #binario\n",
    "print(edad_en_binario, type(edad_en_binario))\n",
    "\n",
    "edad_en_hexedecimal = hex(edad) #hexadecimal\n",
    "print(edad_en_hexedecimal, type(edad_en_hexedecimal))"
   ]
  },
  {
   "cell_type": "code",
   "execution_count": 21,
   "metadata": {},
   "outputs": [
    {
     "name": "stdout",
     "output_type": "stream",
     "text": [
      "2.5 / 6 / 40\n"
     ]
    }
   ],
   "source": [
    "#Operadores\n",
    "\n",
    "suma_numeros = 1 + 3    # (+) realiza sumas\n",
    "resta_numeros = 3 - 1       # (-) realiza restas\n",
    "producto_numero = 4 * 3         # (*)realiza multiplicaciones\n",
    "division_de_un_numero = 10 / 3      # (/) realiza divisiones\n",
    "division_entera_de_un_numero = 10 // 3      #(//) realiza divisiones enteras\n",
    "modulo_numero = 10 % 3      #(%) realiza modulo (solo muestra el resto)\n",
    "\n",
    "numero_1 = 10\n",
    "numero_2 = 4\n",
    "\n",
    "resultado = numero_1 / numero_2\n",
    "print(f\"{numero_1 / numero_2} / {numero_1 - numero_2} / {numero_1 * numero_2}\")\n",
    "\n"
   ]
  },
  {
   "cell_type": "code",
   "execution_count": 28,
   "metadata": {},
   "outputs": [
    {
     "name": "stdout",
     "output_type": "stream",
     "text": [
      "True\n",
      "True <class 'bool'>\n"
     ]
    }
   ],
   "source": [
    "#Operadores logicos  \n",
    "\n",
    "numero_1 < numero_2     #True (menor que)\n",
    "numero_1 <= numero_2     #True (menor o igual que)\n",
    "numero_1 > numero_2     #False (mayor que)\n",
    "numero_1 >= numero_2     #False (mayor o igual que)\n",
    "numero_1 != numero_2     #True (distinto que)\n",
    "numero_1 == numero_2     #False (igual que)\n",
    "numero_1 is numero_2     #False (igual que)\n",
    "numero_1 is not numero_2     #True (no es igual que)\n",
    "\n",
    "\n",
    "numero_1 = 10\n",
    "numero_2 = 100\n",
    "\n",
    "print(f\"{numero_1 is not numero_2}\")\n",
    "\n",
    "None                        # sin dato\n",
    "\n",
    "#datos booleanos\n",
    "\n",
    "var = True\n",
    "print(var, type(var))\n",
    " \n"
   ]
  },
  {
   "cell_type": "code",
   "execution_count": 31,
   "metadata": {},
   "outputs": [
    {
     "name": "stdout",
     "output_type": "stream",
     "text": [
      "25 <class 'str'>\n",
      "25 <class 'int'>\n"
     ]
    }
   ],
   "source": [
    "#Strings (cadenas de texto)\n",
    "\n",
    "edad = input(\" Dime tu edad: \")\n",
    "print(edad, type (edad))         #muestra la variable y el tipo \n",
    "edad = int(edad)                    #cambia el tipo \n",
    "print(edad, type (edad))  "
   ]
  }
 ],
 "metadata": {
  "kernelspec": {
   "display_name": "Python 3",
   "language": "python",
   "name": "python3"
  },
  "language_info": {
   "codemirror_mode": {
    "name": "ipython",
    "version": 3
   },
   "file_extension": ".py",
   "mimetype": "text/x-python",
   "name": "python",
   "nbconvert_exporter": "python",
   "pygments_lexer": "ipython3",
   "version": "3.12.1"
  }
 },
 "nbformat": 4,
 "nbformat_minor": 2
}
