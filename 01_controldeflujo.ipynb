{
 "cells": [
  {
   "cell_type": "code",
   "execution_count": null,
   "metadata": {},
   "outputs": [],
   "source": [
    "numero_1 = 1\n",
    "numero_2 = 2\n",
    "\n",
    "suma = numero_1 + numero_2\n",
    "print(suma)\n",
    "\n"
   ]
  },
  {
   "cell_type": "code",
   "execution_count": null,
   "metadata": {},
   "outputs": [],
   "source": [
    "#Bucles\n",
    "\n",
    "on_off = True\n",
    "while on_off is True:\n",
    "    print(\"Estoy encendido\")\n",
    "    break\n",
    "\n",
    "numeros = [1, 2, 3, 4, 5, 6, 7,]\n",
    "\n",
    "for numero in numeros:\n",
    "    print(numero)\n",
    "\n",
    "for numero in range(4):\n",
    "    print(numero)\n",
    "    "
   ]
  },
  {
   "cell_type": "code",
   "execution_count": null,
   "metadata": {},
   "outputs": [],
   "source": [
    "lista = range(10)\n",
    "for numero in lista:\n",
    "    print(numero)"
   ]
  },
  {
   "cell_type": "code",
   "execution_count": null,
   "metadata": {},
   "outputs": [],
   "source": [
    "notas_alumnos = ([3, 4, 6, 7],\n",
    "                [5, 5, 7.6, 8,],\n",
    "                [4, 6, 9.5, 6.5])\n",
    "media_notas_cada_alumno =[]\n",
    "media_total_notas = 0\n",
    "\n",
    "for notas in notas_alumnos:\n",
    "    print(f\"Estas son las notas: {notas}\")\n",
    "    media_de_alumno = 0\n",
    "    \n",
    "for notas_alumnos in notas:\n",
    "    media_de_alumno += notas_alumnos / 4\n",
    "\n",
    "print(f\"Y esta es la media del alumno: {media_de_alumno}\")\n",
    "media_notas_cada_alumno.append(media_de_alumno)\n",
    "\n",
    "for media_notas in media_notas_cada_alumno:\n",
    "    media_total_notas += media_notas / 4\n",
    "\n",
    "print(f\"La media de las medias de cada alumno es : {media_notas_cada_alumno} ----> {media_total_notas}\")\n",
    "    \n",
    "        "
   ]
  },
  {
   "cell_type": "code",
   "execution_count": null,
   "metadata": {},
   "outputs": [],
   "source": [
    "#Crea un semaforo \n",
    "\n",
    "color_del_semaforo =input(\"Dime en que color esta el semaforo:\")\n",
    "\n",
    "if color_del_semaforo == \"verde\":\n",
    "    print(f\"El semaforo esta: {color_del_semaforo} puedes pasar\")\n",
    "elif color_del_semaforo == \"amarillo\":\n",
    "    print(f\" El semaforo esta: {color_del_semaforo} pronto cambiara a Rojo \")\n",
    "elif color_del_semaforo == \"rojo\":\n",
    "    print(f\"El semaforo esta: {color_del_semaforo} no puede pasar\")\n",
    "else:\n",
    "    print(\"El color del semaforo no es correcto\")\n",
    "\n"
   ]
  },
  {
   "cell_type": "code",
   "execution_count": null,
   "metadata": {},
   "outputs": [],
   "source": [
    "#Condicional ternario <resultado verdadero> if <condicion> else <resultado falso>\n",
    "\n",
    "edad = int(input(\"Dime una edad:\"))\n",
    "respuesta = \"Eres mayor de edad\" if edad >=18 else \"Eres menor de edad\"\n",
    "print(respuesta)\n"
   ]
  },
  {
   "cell_type": "code",
   "execution_count": 19,
   "metadata": {},
   "outputs": [
    {
     "name": "stdout",
     "output_type": "stream",
     "text": [
      "{1: 'Juan', 2: 'Susana', 3: 'Paco', 4: 'Ana', 5: 'Joaquin'}\n"
     ]
    }
   ],
   "source": [
    "#Juntar dos listas en un diccionario con zip\n",
    "claves = [1, 2, 3, 4, 5,]\n",
    "valores = [\"Juan\", \"Susana\", \"Paco\",\"Ana\", \"Joaquin\" ]\n",
    "\n",
    "resultado = dict(zip(claves,valores))\n",
    "\n",
    "print(resultado)\n",
    "\n"
   ]
  }
 ],
 "metadata": {
  "kernelspec": {
   "display_name": "Python 3",
   "language": "python",
   "name": "python3"
  },
  "language_info": {
   "codemirror_mode": {
    "name": "ipython",
    "version": 3
   },
   "file_extension": ".py",
   "mimetype": "text/x-python",
   "name": "python",
   "nbconvert_exporter": "python",
   "pygments_lexer": "ipython3",
   "version": "3.12.1"
  }
 },
 "nbformat": 4,
 "nbformat_minor": 2
}
