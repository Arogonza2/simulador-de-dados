{
 "cells": [
  {
   "cell_type": "code",
   "execution_count": 2,
   "metadata": {},
   "outputs": [
    {
     "name": "stdout",
     "output_type": "stream",
     "text": [
      "3\n"
     ]
    }
   ],
   "source": [
    "numero_1 = 1\n",
    "numero_2 = 2\n",
    "\n",
    "suma = numero_1 + numero_2\n",
    "print(suma)\n",
    "\n"
   ]
  },
  {
   "cell_type": "code",
   "execution_count": 17,
   "metadata": {},
   "outputs": [
    {
     "name": "stdout",
     "output_type": "stream",
     "text": [
      "Estoy encendido\n",
      "1\n",
      "2\n",
      "3\n",
      "4\n",
      "5\n",
      "6\n",
      "7\n",
      "0\n",
      "1\n"
     ]
    }
   ],
   "source": [
    "#Bucles\n",
    "\n",
    "on_off = True\n",
    "while on_off is True:\n",
    "    print(\"Estoy encendido\")\n",
    "    break\n",
    "\n",
    "numeros = [1, 2, 3, 4, 5, 6, 7,]\n",
    "\n",
    "for numero in numeros:\n",
    "    print(numero)\n",
    "\n",
    "for numero in range(2):\n",
    "    print(numero)\n",
    "    "
   ]
  },
  {
   "cell_type": "code",
   "execution_count": 19,
   "metadata": {},
   "outputs": [
    {
     "name": "stdout",
     "output_type": "stream",
     "text": [
      "0\n",
      "1\n",
      "2\n",
      "3\n",
      "4\n",
      "5\n",
      "6\n",
      "7\n",
      "8\n",
      "9\n"
     ]
    }
   ],
   "source": [
    "lista = range(10)\n",
    "for numero in lista:\n",
    "    print(numero)"
   ]
  },
  {
   "cell_type": "code",
   "execution_count": 5,
   "metadata": {},
   "outputs": [
    {
     "name": "stdout",
     "output_type": "stream",
     "text": [
      "Estas son las notas: [3, 4, 6, 7]\n",
      "Estas son las notas: [5, 5, 7.6, 8]\n",
      "Estas son las notas: [4, 6, 9.5, 6.5]\n",
      "Y esta es la media del alumno: 6.5\n",
      "La media de las medias de cada alumno es : [6.5] ----> 1.625\n"
     ]
    }
   ],
   "source": [
    "notas_alumnos = ([3, 4, 6, 7],\n",
    "                [5, 5, 7.6, 8,],\n",
    "                [4, 6, 9.5, 6.5])\n",
    "media_notas_cada_alumno =[]\n",
    "media_total_notas = 0\n",
    "\n",
    "for notas in notas_alumnos:\n",
    "    print(f\"Estas son las notas: {notas}\")\n",
    "    media_de_alumno = 0\n",
    "    \n",
    "for notas_alumnos in notas:\n",
    "    media_de_alumno += notas_alumnos / 4\n",
    "\n",
    "print(f\"Y esta es la media del alumno: {media_de_alumno}\")\n",
    "media_notas_cada_alumno.append(media_de_alumno)\n",
    "\n",
    "for media_notas in media_notas_cada_alumno:\n",
    "    media_total_notas += media_notas / 4\n",
    "\n",
    "print(f\"La media de las medias de cada alumno es : {media_notas_cada_alumno} ----> {media_total_notas}\")\n",
    "    \n",
    "        "
   ]
  }
 ],
 "metadata": {
  "kernelspec": {
   "display_name": "Python 3",
   "language": "python",
   "name": "python3"
  },
  "language_info": {
   "codemirror_mode": {
    "name": "ipython",
    "version": 3
   },
   "file_extension": ".py",
   "mimetype": "text/x-python",
   "name": "python",
   "nbconvert_exporter": "python",
   "pygments_lexer": "ipython3",
   "version": "3.12.1"
  }
 },
 "nbformat": 4,
 "nbformat_minor": 2
}
